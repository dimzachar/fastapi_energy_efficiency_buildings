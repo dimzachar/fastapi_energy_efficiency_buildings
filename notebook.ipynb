{
 "cells": [
  {
   "cell_type": "markdown",
   "id": "4afe0265",
   "metadata": {
    "hide_input": true,
    "id": "-JrenrSGmAeg"
   },
   "source": [
    "MLZoomcamp Mid Term Project\n"
   ]
  },
  {
   "cell_type": "markdown",
   "id": "0c2cb3dc",
   "metadata": {
    "toc": true
   },
   "source": [
    "<h1>Table of Contents<span class=\"tocSkip\"></span></h1>\n",
    "<div class=\"toc\"><ul class=\"toc-item\"><li><span><a href=\"#-Introduction-\" data-toc-modified-id=\"-Introduction--1\"><span class=\"toc-item-num\">1&nbsp;&nbsp;</span> Introduction </a></span></li><li><span><a href=\"#EDA\" data-toc-modified-id=\"EDA-2\"><span class=\"toc-item-num\">2&nbsp;&nbsp;</span>EDA</a></span><ul class=\"toc-item\"><li><span><a href=\"#Importing-libraries-and-dependencies:\" data-toc-modified-id=\"Importing-libraries-and-dependencies:-2.1\"><span class=\"toc-item-num\">2.1&nbsp;&nbsp;</span>Importing libraries and dependencies:</a></span></li><li><span><a href=\"#Load-the-Data\" data-toc-modified-id=\"Load-the-Data-2.2\"><span class=\"toc-item-num\">2.2&nbsp;&nbsp;</span>Load the Data</a></span></li><li><span><a href=\"#Data-Exploration\" data-toc-modified-id=\"Data-Exploration-2.3\"><span class=\"toc-item-num\">2.3&nbsp;&nbsp;</span>Data Exploration</a></span></li><li><span><a href=\"#Correlation\" data-toc-modified-id=\"Correlation-2.4\"><span class=\"toc-item-num\">2.4&nbsp;&nbsp;</span>Correlation</a></span></li><li><span><a href=\"#Feature-importance-and-selection\" data-toc-modified-id=\"Feature-importance-and-selection-2.5\"><span class=\"toc-item-num\">2.5&nbsp;&nbsp;</span>Feature importance and selection</a></span></li></ul></li><li><span><a href=\"#Training,-splitting\" data-toc-modified-id=\"Training,-splitting-3\"><span class=\"toc-item-num\">3&nbsp;&nbsp;</span>Training, splitting</a></span></li><li><span><a href=\"#Models\" data-toc-modified-id=\"Models-4\"><span class=\"toc-item-num\">4&nbsp;&nbsp;</span>Models</a></span><ul class=\"toc-item\"><li><span><a href=\"#Linear-Regression\" data-toc-modified-id=\"Linear-Regression-4.1\"><span class=\"toc-item-num\">4.1&nbsp;&nbsp;</span>Linear Regression</a></span></li><li><span><a href=\"#Ridge\" data-toc-modified-id=\"Ridge-4.2\"><span class=\"toc-item-num\">4.2&nbsp;&nbsp;</span>Ridge</a></span></li><li><span><a href=\"#Decision-Trees\" data-toc-modified-id=\"Decision-Trees-4.3\"><span class=\"toc-item-num\">4.3&nbsp;&nbsp;</span>Decision Trees</a></span><ul class=\"toc-item\"><li><span><a href=\"#Base-model\" data-toc-modified-id=\"Base-model-4.3.1\"><span class=\"toc-item-num\">4.3.1&nbsp;&nbsp;</span>Base model</a></span></li><li><span><a href=\"#Tuning-hyperparameters\" data-toc-modified-id=\"Tuning-hyperparameters-4.3.2\"><span class=\"toc-item-num\">4.3.2&nbsp;&nbsp;</span>Tuning hyperparameters</a></span></li></ul></li><li><span><a href=\"#Random-forest\" data-toc-modified-id=\"Random-forest-4.4\"><span class=\"toc-item-num\">4.4&nbsp;&nbsp;</span>Random forest</a></span><ul class=\"toc-item\"><li><span><a href=\"#Base-model\" data-toc-modified-id=\"Base-model-4.4.1\"><span class=\"toc-item-num\">4.4.1&nbsp;&nbsp;</span>Base model</a></span></li><li><span><a href=\"#Tuning-hyperparameters\" data-toc-modified-id=\"Tuning-hyperparameters-4.4.2\"><span class=\"toc-item-num\">4.4.2&nbsp;&nbsp;</span>Tuning hyperparameters</a></span></li><li><span><a href=\"#Feature-importance\" data-toc-modified-id=\"Feature-importance-4.4.3\"><span class=\"toc-item-num\">4.4.3&nbsp;&nbsp;</span>Feature importance</a></span></li></ul></li><li><span><a href=\"#Xgboost\" data-toc-modified-id=\"Xgboost-4.5\"><span class=\"toc-item-num\">4.5&nbsp;&nbsp;</span>Xgboost</a></span></li></ul></li><li><span><a href=\"#Final-model\" data-toc-modified-id=\"Final-model-5\"><span class=\"toc-item-num\">5&nbsp;&nbsp;</span>Final model</a></span></li></ul></div>"
   ]
  },
  {
   "cell_type": "markdown",
   "id": "d1912517",
   "metadata": {},
   "source": [
    "<h1> Introduction </h1>"
   ]
  },
  {
   "cell_type": "markdown",
   "id": "bae208eb",
   "metadata": {},
   "source": [
    "AI techniques such as machine and deep learning are increasingly and successfully being used to build solutions for the built environment.\n",
    "\n",
    "The energy consumption of heating, ventilation, and air-conditioning systems, particularly for cooling and heating loads, is a major problem of energy-efficient buildings in smart cities.\n",
    "\n",
    "\n",
    "We will investigate the Energy Efficiency Dataset\n",
    "\n",
    "https://www.kaggle.com/datasets/elikplim/eergy-efficiency-dataset\n",
    "\n",
    "based on paper\n",
    "\n",
    "A. Tsanas, A. Xifara: 'Accurate quantitative estimation of energy performance of residential buildings using statistical machine learning tools', Energy and Buildings, Vol. 49, pp. 560-567, 2012\n",
    "\n",
    "On residential buildings, this study offers an Improved Harris Hawks Optimization with Hybrid Deep Learning Based Heating and Cooling Load Prediction (IHHOHDL-HCLP) model. \n",
    "\n",
    "This model can help energy-efficient buildings improve the performance of their air-conditioning systems and benefit the environment in the long run.\n",
    "\n",
    "\n",
    "Abstract\n",
    "\n",
    "We develop a statistical machine learning framework to study the effect of eight input variables (relative\n",
    "compactness, surface area, wall area, roof area, overall height, orientation, glazing area, glazing area\n",
    "distribution) on two output variables, namely heating load (HL) and cooling load (CL), of residential\n",
    "buildings. We systematically investigate the association strength of each input variable with each of\n",
    "the output variables using a variety of classical and non-parametric statistical analysis tools, in order to\n",
    "identify the most strongly related input variables. Then, we compare a classical linear regression approach\n",
    "against a powerful state of the art nonlinear non-parametric method, random forests, to estimate HL and\n",
    "CL. Extensive simulations on 768 diverse residential buildings show that we can predict HL and CL with\n",
    "low mean absolute error deviations from the ground truth which is established using Ecotect (0.51 and\n",
    "1.42, respectively). The results of this study support the feasibility of using machine learning tools to\n",
    "estimate building parameters as a convenient and accurate approach, as long as the requested query\n",
    "bears resemblance to the data actually used to train the mathematical model in the first place.\n",
    "    \n",
    "    \n",
    "The dataset contains eight attributes (or features, denoted by X1…X8) and two responses (or outcomes, denoted by y1 and y2). The aim is to use the eight features to predict each of the two responses.\n",
    "\n",
    "Specifically:\n",
    "\n",
    "- X1 Relative Compactness\n",
    "- X2 Surface Area - m²\n",
    "- X3 Wall Area - m²\n",
    "- X4 Roof Area - m²\n",
    "- X5 Overall Height - m\n",
    "- X6 Orientation - 2:North, 3:East, 4:South, 5:West\n",
    "- X7 Glazing Area - 0%, 10%, 25%, 40% (of floor area)\n",
    "- X8 Glazing Area Distribution - 1:Uniform, 2:North, 3:East, 4:South, 5:West\n",
    "- y1 Heating Load - kWh\n",
    "- y2 Cooling Load - kWh\n",
    "\n",
    "\n",
    "Paper Highlights\n",
    "\n",
    "We study the effect of eight common building parameters on heating and cooling load. \n",
    "\n",
    "A robust statistical machine learning methodology is presented. \n",
    "\n",
    "Accurate predictions compared to ground truth: 0.51 for heating load, 1.42 for cooling load"
   ]
  },
  {
   "cell_type": "markdown",
   "id": "e8dd84e1",
   "metadata": {},
   "source": [
    "# EDA"
   ]
  },
  {
   "cell_type": "markdown",
   "id": "340f3e9f",
   "metadata": {},
   "source": [
    "## Importing libraries and dependencies:"
   ]
  },
  {
   "cell_type": "code",
   "execution_count": 1,
   "id": "99c7bcb2",
   "metadata": {},
   "outputs": [],
   "source": [
    "import re\n",
    "import numpy as np\n",
    "import pandas as pd\n",
    "import seaborn as sns\n",
    "import matplotlib.pyplot as plt\n",
    "from scipy import stats\n",
    "\n",
    "from sklearn.feature_extraction import DictVectorizer\n",
    "from sklearn.preprocessing import StandardScaler\n",
    "from sklearn.model_selection import train_test_split\n",
    "\n",
    "from sklearn.tree import export_text\n",
    "from sklearn.model_selection import GridSearchCV\n",
    "\n",
    "from sklearn.linear_model import LinearRegression\n",
    "from sklearn.linear_model import Ridge\n",
    "\n",
    "from tqdm.auto import tqdm\n",
    "from sklearn.tree import DecisionTreeRegressor\n",
    "from sklearn.ensemble import RandomForestRegressor\n",
    "from sklearn.feature_selection import RFE\n",
    "from sklearn.ensemble import ExtraTreesRegressor\n",
    "import xgboost as xgb\n",
    "\n",
    "from sklearn.metrics import r2_score\n",
    "from sklearn.metrics import mean_squared_error\n",
    "from sklearn import metrics\n",
    "\n",
    "import warnings\n",
    "\n",
    "warnings.filterwarnings(\"ignore\")\n",
    "\n",
    "%matplotlib inline\n",
    "\n",
    "SEED = 1\n",
    "np.random.seed(SEED)"
   ]
  },
  {
   "cell_type": "code",
   "execution_count": 2,
   "id": "39c5fbcf",
   "metadata": {},
   "outputs": [
    {
     "name": "stdout",
     "output_type": "stream",
     "text": [
      "pandas version  : 1.4.4\n",
      "numpy version   : 1.21.5\n",
      "seaborn version : 0.11.2\n"
     ]
    }
   ],
   "source": [
    "print(f\"pandas version  : {pd.__version__}\")\n",
    "print(f\"numpy version   : {np.__version__}\")\n",
    "print(f\"seaborn version : {sns.__version__}\")"
   ]
  },
  {
   "cell_type": "markdown",
   "id": "8c44be9c",
   "metadata": {},
   "source": [
    "## Load the Data"
   ]
  },
  {
   "cell_type": "code",
   "execution_count": 3,
   "id": "1e009982",
   "metadata": {},
   "outputs": [],
   "source": [
    "#@ READING DATASET:\n",
    "PATH = \"./ENB2012_data.csv\"\n",
    "df = pd.read_csv(PATH)"
   ]
  },
  {
   "cell_type": "code",
   "execution_count": 4,
   "id": "adf5b876",
   "metadata": {},
   "outputs": [
    {
     "data": {
      "text/html": [
       "<div>\n",
       "<style scoped>\n",
       "    .dataframe tbody tr th:only-of-type {\n",
       "        vertical-align: middle;\n",
       "    }\n",
       "\n",
       "    .dataframe tbody tr th {\n",
       "        vertical-align: top;\n",
       "    }\n",
       "\n",
       "    .dataframe thead th {\n",
       "        text-align: right;\n",
       "    }\n",
       "</style>\n",
       "<table border=\"1\" class=\"dataframe\">\n",
       "  <thead>\n",
       "    <tr style=\"text-align: right;\">\n",
       "      <th></th>\n",
       "      <th>X1</th>\n",
       "      <th>X2</th>\n",
       "      <th>X3</th>\n",
       "      <th>X4</th>\n",
       "      <th>X5</th>\n",
       "      <th>X6</th>\n",
       "      <th>X7</th>\n",
       "      <th>X8</th>\n",
       "      <th>Y1</th>\n",
       "      <th>Y2</th>\n",
       "    </tr>\n",
       "  </thead>\n",
       "  <tbody>\n",
       "    <tr>\n",
       "      <th>0</th>\n",
       "      <td>0.98</td>\n",
       "      <td>514.5</td>\n",
       "      <td>294.0</td>\n",
       "      <td>110.25</td>\n",
       "      <td>7.0</td>\n",
       "      <td>2</td>\n",
       "      <td>0.0</td>\n",
       "      <td>0</td>\n",
       "      <td>15.55</td>\n",
       "      <td>21.33</td>\n",
       "    </tr>\n",
       "    <tr>\n",
       "      <th>1</th>\n",
       "      <td>0.98</td>\n",
       "      <td>514.5</td>\n",
       "      <td>294.0</td>\n",
       "      <td>110.25</td>\n",
       "      <td>7.0</td>\n",
       "      <td>3</td>\n",
       "      <td>0.0</td>\n",
       "      <td>0</td>\n",
       "      <td>15.55</td>\n",
       "      <td>21.33</td>\n",
       "    </tr>\n",
       "    <tr>\n",
       "      <th>2</th>\n",
       "      <td>0.98</td>\n",
       "      <td>514.5</td>\n",
       "      <td>294.0</td>\n",
       "      <td>110.25</td>\n",
       "      <td>7.0</td>\n",
       "      <td>4</td>\n",
       "      <td>0.0</td>\n",
       "      <td>0</td>\n",
       "      <td>15.55</td>\n",
       "      <td>21.33</td>\n",
       "    </tr>\n",
       "    <tr>\n",
       "      <th>3</th>\n",
       "      <td>0.98</td>\n",
       "      <td>514.5</td>\n",
       "      <td>294.0</td>\n",
       "      <td>110.25</td>\n",
       "      <td>7.0</td>\n",
       "      <td>5</td>\n",
       "      <td>0.0</td>\n",
       "      <td>0</td>\n",
       "      <td>15.55</td>\n",
       "      <td>21.33</td>\n",
       "    </tr>\n",
       "    <tr>\n",
       "      <th>4</th>\n",
       "      <td>0.90</td>\n",
       "      <td>563.5</td>\n",
       "      <td>318.5</td>\n",
       "      <td>122.50</td>\n",
       "      <td>7.0</td>\n",
       "      <td>2</td>\n",
       "      <td>0.0</td>\n",
       "      <td>0</td>\n",
       "      <td>20.84</td>\n",
       "      <td>28.28</td>\n",
       "    </tr>\n",
       "  </tbody>\n",
       "</table>\n",
       "</div>"
      ],
      "text/plain": [
       "     X1     X2     X3      X4   X5  X6   X7  X8     Y1     Y2\n",
       "0  0.98  514.5  294.0  110.25  7.0   2  0.0   0  15.55  21.33\n",
       "1  0.98  514.5  294.0  110.25  7.0   3  0.0   0  15.55  21.33\n",
       "2  0.98  514.5  294.0  110.25  7.0   4  0.0   0  15.55  21.33\n",
       "3  0.98  514.5  294.0  110.25  7.0   5  0.0   0  15.55  21.33\n",
       "4  0.90  563.5  318.5  122.50  7.0   2  0.0   0  20.84  28.28"
      ]
     },
     "execution_count": 4,
     "metadata": {},
     "output_type": "execute_result"
    }
   ],
   "source": [
    "df.head()"
   ]
  },
  {
   "cell_type": "code",
   "execution_count": 5,
   "id": "214a4d1a",
   "metadata": {},
   "outputs": [
    {
     "name": "stdout",
     "output_type": "stream",
     "text": [
      "(768, 10)\n"
     ]
    }
   ],
   "source": [
    "print(df.shape)"
   ]
  },
  {
   "cell_type": "markdown",
   "id": "d4d8a39b",
   "metadata": {},
   "source": [
    "## Data Exploration"
   ]
  },
  {
   "cell_type": "code",
   "execution_count": 6,
   "id": "d0d6c218",
   "metadata": {},
   "outputs": [],
   "source": [
    "df_class = df.copy()"
   ]
  },
  {
   "cell_type": "code",
   "execution_count": 7,
   "id": "d6cd948e",
   "metadata": {},
   "outputs": [],
   "source": [
    "df_class.columns = [\n",
    "    'Relative Compactness',\n",
    "    'Surface Area',\n",
    "    'Wall Area',\n",
    "    'Roof Area',\n",
    "    'Overall Height',\n",
    "    'Orientation',\n",
    "    'Glazing Area',\n",
    "    'Glazing Area Distribution',\n",
    "    'Heating Load',\n",
    "    'Cooling Load',\n",
    "]"
   ]
  },
  {
   "cell_type": "code",
   "execution_count": 8,
   "id": "f7b361a6",
   "metadata": {},
   "outputs": [
    {
     "data": {
      "text/html": [
       "<div>\n",
       "<style scoped>\n",
       "    .dataframe tbody tr th:only-of-type {\n",
       "        vertical-align: middle;\n",
       "    }\n",
       "\n",
       "    .dataframe tbody tr th {\n",
       "        vertical-align: top;\n",
       "    }\n",
       "\n",
       "    .dataframe thead th {\n",
       "        text-align: right;\n",
       "    }\n",
       "</style>\n",
       "<table border=\"1\" class=\"dataframe\">\n",
       "  <thead>\n",
       "    <tr style=\"text-align: right;\">\n",
       "      <th></th>\n",
       "      <th>Relative Compactness</th>\n",
       "      <th>Surface Area</th>\n",
       "      <th>Wall Area</th>\n",
       "      <th>Roof Area</th>\n",
       "      <th>Overall Height</th>\n",
       "      <th>Orientation</th>\n",
       "      <th>Glazing Area</th>\n",
       "      <th>Glazing Area Distribution</th>\n",
       "      <th>Heating Load</th>\n",
       "      <th>Cooling Load</th>\n",
       "    </tr>\n",
       "  </thead>\n",
       "  <tbody>\n",
       "    <tr>\n",
       "      <th>0</th>\n",
       "      <td>0.98</td>\n",
       "      <td>514.5</td>\n",
       "      <td>294.0</td>\n",
       "      <td>110.25</td>\n",
       "      <td>7.0</td>\n",
       "      <td>2</td>\n",
       "      <td>0.0</td>\n",
       "      <td>0</td>\n",
       "      <td>15.55</td>\n",
       "      <td>21.33</td>\n",
       "    </tr>\n",
       "    <tr>\n",
       "      <th>1</th>\n",
       "      <td>0.98</td>\n",
       "      <td>514.5</td>\n",
       "      <td>294.0</td>\n",
       "      <td>110.25</td>\n",
       "      <td>7.0</td>\n",
       "      <td>3</td>\n",
       "      <td>0.0</td>\n",
       "      <td>0</td>\n",
       "      <td>15.55</td>\n",
       "      <td>21.33</td>\n",
       "    </tr>\n",
       "    <tr>\n",
       "      <th>2</th>\n",
       "      <td>0.98</td>\n",
       "      <td>514.5</td>\n",
       "      <td>294.0</td>\n",
       "      <td>110.25</td>\n",
       "      <td>7.0</td>\n",
       "      <td>4</td>\n",
       "      <td>0.0</td>\n",
       "      <td>0</td>\n",
       "      <td>15.55</td>\n",
       "      <td>21.33</td>\n",
       "    </tr>\n",
       "    <tr>\n",
       "      <th>3</th>\n",
       "      <td>0.98</td>\n",
       "      <td>514.5</td>\n",
       "      <td>294.0</td>\n",
       "      <td>110.25</td>\n",
       "      <td>7.0</td>\n",
       "      <td>5</td>\n",
       "      <td>0.0</td>\n",
       "      <td>0</td>\n",
       "      <td>15.55</td>\n",
       "      <td>21.33</td>\n",
       "    </tr>\n",
       "    <tr>\n",
       "      <th>4</th>\n",
       "      <td>0.90</td>\n",
       "      <td>563.5</td>\n",
       "      <td>318.5</td>\n",
       "      <td>122.50</td>\n",
       "      <td>7.0</td>\n",
       "      <td>2</td>\n",
       "      <td>0.0</td>\n",
       "      <td>0</td>\n",
       "      <td>20.84</td>\n",
       "      <td>28.28</td>\n",
       "    </tr>\n",
       "  </tbody>\n",
       "</table>\n",
       "</div>"
      ],
      "text/plain": [
       "   Relative Compactness  Surface Area  Wall Area  Roof Area  Overall Height  \\\n",
       "0                  0.98         514.5      294.0     110.25             7.0   \n",
       "1                  0.98         514.5      294.0     110.25             7.0   \n",
       "2                  0.98         514.5      294.0     110.25             7.0   \n",
       "3                  0.98         514.5      294.0     110.25             7.0   \n",
       "4                  0.90         563.5      318.5     122.50             7.0   \n",
       "\n",
       "   Orientation  Glazing Area  Glazing Area Distribution  Heating Load  \\\n",
       "0            2           0.0                          0         15.55   \n",
       "1            3           0.0                          0         15.55   \n",
       "2            4           0.0                          0         15.55   \n",
       "3            5           0.0                          0         15.55   \n",
       "4            2           0.0                          0         20.84   \n",
       "\n",
       "   Cooling Load  \n",
       "0         21.33  \n",
       "1         21.33  \n",
       "2         21.33  \n",
       "3         21.33  \n",
       "4         28.28  "
      ]
     },
     "execution_count": 8,
     "metadata": {},
     "output_type": "execute_result"
    }
   ],
   "source": [
    "df_class.head()"
   ]
  },
  {
   "cell_type": "code",
   "execution_count": 9,
   "id": "ebee85f4",
   "metadata": {},
   "outputs": [],
   "source": [
    "df_class.columns = df_class.columns.str.lower().str.replace(' ', '_')"
   ]
  },
  {
   "cell_type": "code",
   "execution_count": 85,
   "id": "3a4449a6",
   "metadata": {},
   "outputs": [
    {
     "data": {
      "text/html": [
       "<style type=\"text/css\">\n",
       "#T_02882_row0_col0, #T_02882_row0_col4, #T_02882_row1_col0, #T_02882_row1_col4, #T_02882_row2_col0, #T_02882_row2_col4, #T_02882_row3_col0, #T_02882_row3_col4, #T_02882_row3_col5, #T_02882_row4_col4, #T_02882_row5_col4, #T_02882_row6_col4, #T_02882_row7_col4, #T_02882_row7_col5, #T_02882_row8_col4, #T_02882_row9_col4, #T_02882_row10_col4, #T_02882_row11_col4, #T_02882_row11_col5, #T_02882_row12_col4, #T_02882_row13_col4, #T_02882_row14_col4, #T_02882_row15_col4, #T_02882_row15_col5, #T_02882_row16_col4, #T_02882_row17_col4, #T_02882_row17_col8, #T_02882_row18_col4, #T_02882_row19_col4, #T_02882_row19_col5, #T_02882_row19_col9, #T_02882_row20_col2, #T_02882_row20_col4, #T_02882_row21_col2, #T_02882_row21_col4, #T_02882_row22_col2, #T_02882_row22_col4, #T_02882_row23_col2, #T_02882_row23_col4, #T_02882_row23_col5, #T_02882_row24_col1, #T_02882_row24_col3 {\n",
       "  background-color: #023858;\n",
       "  color: #f1f1f1;\n",
       "}\n",
       "#T_02882_row0_col1, #T_02882_row0_col3, #T_02882_row0_col5, #T_02882_row0_col6, #T_02882_row0_col7, #T_02882_row1_col1, #T_02882_row1_col3, #T_02882_row1_col6, #T_02882_row1_col7, #T_02882_row2_col1, #T_02882_row2_col3, #T_02882_row2_col6, #T_02882_row2_col7, #T_02882_row3_col1, #T_02882_row3_col3, #T_02882_row3_col6, #T_02882_row3_col7, #T_02882_row4_col5, #T_02882_row4_col6, #T_02882_row4_col7, #T_02882_row5_col6, #T_02882_row5_col7, #T_02882_row6_col6, #T_02882_row6_col7, #T_02882_row7_col6, #T_02882_row7_col7, #T_02882_row8_col5, #T_02882_row8_col6, #T_02882_row8_col7, #T_02882_row9_col6, #T_02882_row9_col7, #T_02882_row10_col6, #T_02882_row10_col7, #T_02882_row11_col6, #T_02882_row11_col7, #T_02882_row12_col5, #T_02882_row12_col6, #T_02882_row12_col7, #T_02882_row13_col6, #T_02882_row13_col7, #T_02882_row14_col6, #T_02882_row14_col7, #T_02882_row15_col6, #T_02882_row15_col7, #T_02882_row16_col5, #T_02882_row16_col6, #T_02882_row16_col7, #T_02882_row17_col6, #T_02882_row17_col7, #T_02882_row18_col6, #T_02882_row18_col7, #T_02882_row19_col6, #T_02882_row19_col7, #T_02882_row20_col5, #T_02882_row20_col6, #T_02882_row20_col7, #T_02882_row21_col6, #T_02882_row21_col7, #T_02882_row22_col6, #T_02882_row22_col7, #T_02882_row23_col6, #T_02882_row23_col7, #T_02882_row24_col0, #T_02882_row24_col2, #T_02882_row24_col4, #T_02882_row24_col5, #T_02882_row24_col6, #T_02882_row24_col7, #T_02882_row24_col8, #T_02882_row24_col9 {\n",
       "  background-color: #fff7fb;\n",
       "  color: #000000;\n",
       "}\n",
       "#T_02882_row0_col2, #T_02882_row1_col2, #T_02882_row2_col2, #T_02882_row3_col2, #T_02882_row4_col1, #T_02882_row5_col1, #T_02882_row6_col1, #T_02882_row7_col1, #T_02882_row8_col2, #T_02882_row9_col2, #T_02882_row10_col2, #T_02882_row11_col2 {\n",
       "  background-color: #c4cbe3;\n",
       "  color: #000000;\n",
       "}\n",
       "#T_02882_row0_col8, #T_02882_row1_col8, #T_02882_row2_col8, #T_02882_row3_col8 {\n",
       "  background-color: #9ebad9;\n",
       "  color: #000000;\n",
       "}\n",
       "#T_02882_row0_col9, #T_02882_row1_col9, #T_02882_row2_col9, #T_02882_row3_col9 {\n",
       "  background-color: #a9bfdc;\n",
       "  color: #000000;\n",
       "}\n",
       "#T_02882_row1_col5, #T_02882_row5_col5, #T_02882_row8_col3, #T_02882_row9_col3, #T_02882_row9_col5, #T_02882_row10_col3, #T_02882_row11_col3, #T_02882_row12_col0, #T_02882_row12_col3, #T_02882_row13_col0, #T_02882_row13_col3, #T_02882_row13_col5, #T_02882_row14_col0, #T_02882_row14_col3, #T_02882_row15_col0, #T_02882_row15_col3, #T_02882_row16_col3, #T_02882_row17_col3, #T_02882_row17_col5, #T_02882_row18_col3, #T_02882_row19_col3, #T_02882_row21_col5 {\n",
       "  background-color: #b4c4df;\n",
       "  color: #000000;\n",
       "}\n",
       "#T_02882_row2_col5, #T_02882_row4_col0, #T_02882_row5_col0, #T_02882_row6_col0, #T_02882_row6_col5, #T_02882_row7_col0, #T_02882_row10_col5, #T_02882_row14_col5, #T_02882_row18_col5, #T_02882_row22_col5 {\n",
       "  background-color: #2685bb;\n",
       "  color: #f1f1f1;\n",
       "}\n",
       "#T_02882_row4_col2, #T_02882_row5_col2, #T_02882_row6_col2, #T_02882_row7_col2, #T_02882_row8_col1, #T_02882_row9_col1, #T_02882_row10_col1, #T_02882_row11_col1, #T_02882_row12_col2, #T_02882_row13_col2, #T_02882_row14_col2, #T_02882_row15_col2 {\n",
       "  background-color: #91b5d6;\n",
       "  color: #000000;\n",
       "}\n",
       "#T_02882_row4_col3, #T_02882_row5_col3, #T_02882_row6_col3, #T_02882_row7_col3, #T_02882_row20_col3, #T_02882_row21_col3, #T_02882_row22_col3, #T_02882_row23_col3 {\n",
       "  background-color: #eee9f3;\n",
       "  color: #000000;\n",
       "}\n",
       "#T_02882_row4_col8 {\n",
       "  background-color: #3991c1;\n",
       "  color: #f1f1f1;\n",
       "}\n",
       "#T_02882_row4_col9 {\n",
       "  background-color: #3f93c2;\n",
       "  color: #f1f1f1;\n",
       "}\n",
       "#T_02882_row5_col8, #T_02882_row23_col9 {\n",
       "  background-color: #2d8abd;\n",
       "  color: #f1f1f1;\n",
       "}\n",
       "#T_02882_row5_col9 {\n",
       "  background-color: #71a8ce;\n",
       "  color: #f1f1f1;\n",
       "}\n",
       "#T_02882_row6_col8 {\n",
       "  background-color: #3b92c1;\n",
       "  color: #f1f1f1;\n",
       "}\n",
       "#T_02882_row6_col9 {\n",
       "  background-color: #75a9cf;\n",
       "  color: #f1f1f1;\n",
       "}\n",
       "#T_02882_row7_col8, #T_02882_row12_col1, #T_02882_row13_col1, #T_02882_row14_col1, #T_02882_row15_col1, #T_02882_row16_col2, #T_02882_row17_col2, #T_02882_row18_col2, #T_02882_row19_col2 {\n",
       "  background-color: #509ac6;\n",
       "  color: #f1f1f1;\n",
       "}\n",
       "#T_02882_row7_col9 {\n",
       "  background-color: #2a88bc;\n",
       "  color: #f1f1f1;\n",
       "}\n",
       "#T_02882_row8_col0, #T_02882_row9_col0, #T_02882_row10_col0, #T_02882_row11_col0 {\n",
       "  background-color: #73a9cf;\n",
       "  color: #f1f1f1;\n",
       "}\n",
       "#T_02882_row8_col8 {\n",
       "  background-color: #549cc7;\n",
       "  color: #f1f1f1;\n",
       "}\n",
       "#T_02882_row8_col9 {\n",
       "  background-color: #4e9ac6;\n",
       "  color: #f1f1f1;\n",
       "}\n",
       "#T_02882_row9_col8 {\n",
       "  background-color: #4a98c5;\n",
       "  color: #f1f1f1;\n",
       "}\n",
       "#T_02882_row9_col9 {\n",
       "  background-color: #a1bbda;\n",
       "  color: #000000;\n",
       "}\n",
       "#T_02882_row10_col8 {\n",
       "  background-color: #589ec8;\n",
       "  color: #f1f1f1;\n",
       "}\n",
       "#T_02882_row10_col9 {\n",
       "  background-color: #8cb3d5;\n",
       "  color: #000000;\n",
       "}\n",
       "#T_02882_row11_col8 {\n",
       "  background-color: #6da6cd;\n",
       "  color: #f1f1f1;\n",
       "}\n",
       "#T_02882_row11_col9 {\n",
       "  background-color: #4496c3;\n",
       "  color: #f1f1f1;\n",
       "}\n",
       "#T_02882_row12_col8 {\n",
       "  background-color: #84b0d3;\n",
       "  color: #f1f1f1;\n",
       "}\n",
       "#T_02882_row12_col9 {\n",
       "  background-color: #88b1d4;\n",
       "  color: #000000;\n",
       "}\n",
       "#T_02882_row13_col8 {\n",
       "  background-color: #7eadd1;\n",
       "  color: #f1f1f1;\n",
       "}\n",
       "#T_02882_row13_col9 {\n",
       "  background-color: #a8bedc;\n",
       "  color: #000000;\n",
       "}\n",
       "#T_02882_row14_col8 {\n",
       "  background-color: #86b0d3;\n",
       "  color: #000000;\n",
       "}\n",
       "#T_02882_row14_col9 {\n",
       "  background-color: #abbfdc;\n",
       "  color: #000000;\n",
       "}\n",
       "#T_02882_row15_col8 {\n",
       "  background-color: #96b6d7;\n",
       "  color: #000000;\n",
       "}\n",
       "#T_02882_row15_col9 {\n",
       "  background-color: #78abd0;\n",
       "  color: #f1f1f1;\n",
       "}\n",
       "#T_02882_row16_col0, #T_02882_row17_col0, #T_02882_row18_col0, #T_02882_row19_col0 {\n",
       "  background-color: #d9d8ea;\n",
       "  color: #000000;\n",
       "}\n",
       "#T_02882_row16_col1, #T_02882_row17_col1, #T_02882_row17_col9, #T_02882_row18_col1, #T_02882_row19_col1 {\n",
       "  background-color: #1379b5;\n",
       "  color: #f1f1f1;\n",
       "}\n",
       "#T_02882_row16_col8 {\n",
       "  background-color: #03476f;\n",
       "  color: #f1f1f1;\n",
       "}\n",
       "#T_02882_row16_col9 {\n",
       "  background-color: #034871;\n",
       "  color: #f1f1f1;\n",
       "}\n",
       "#T_02882_row18_col8 {\n",
       "  background-color: #023a5b;\n",
       "  color: #f1f1f1;\n",
       "}\n",
       "#T_02882_row18_col9 {\n",
       "  background-color: #187cb6;\n",
       "  color: #f1f1f1;\n",
       "}\n",
       "#T_02882_row19_col8 {\n",
       "  background-color: #03456c;\n",
       "  color: #f1f1f1;\n",
       "}\n",
       "#T_02882_row20_col0, #T_02882_row21_col0, #T_02882_row22_col0, #T_02882_row23_col0 {\n",
       "  background-color: #f2ecf5;\n",
       "  color: #000000;\n",
       "}\n",
       "#T_02882_row20_col1, #T_02882_row21_col1, #T_02882_row22_col1, #T_02882_row23_col1 {\n",
       "  background-color: #045d92;\n",
       "  color: #f1f1f1;\n",
       "}\n",
       "#T_02882_row20_col8, #T_02882_row22_col8 {\n",
       "  background-color: #056aa6;\n",
       "  color: #f1f1f1;\n",
       "}\n",
       "#T_02882_row20_col9, #T_02882_row22_col9 {\n",
       "  background-color: #2786bb;\n",
       "  color: #f1f1f1;\n",
       "}\n",
       "#T_02882_row21_col8, #T_02882_row23_col8 {\n",
       "  background-color: #0570b0;\n",
       "  color: #f1f1f1;\n",
       "}\n",
       "#T_02882_row21_col9 {\n",
       "  background-color: #2987bc;\n",
       "  color: #f1f1f1;\n",
       "}\n",
       "</style>\n",
       "<table id=\"T_02882\">\n",
       "  <thead>\n",
       "    <tr>\n",
       "      <th class=\"blank level0\" >&nbsp;</th>\n",
       "      <th id=\"T_02882_level0_col0\" class=\"col_heading level0 col0\" >relative_compactness</th>\n",
       "      <th id=\"T_02882_level0_col1\" class=\"col_heading level0 col1\" >surface_area</th>\n",
       "      <th id=\"T_02882_level0_col2\" class=\"col_heading level0 col2\" >wall_area</th>\n",
       "      <th id=\"T_02882_level0_col3\" class=\"col_heading level0 col3\" >roof_area</th>\n",
       "      <th id=\"T_02882_level0_col4\" class=\"col_heading level0 col4\" >overall_height</th>\n",
       "      <th id=\"T_02882_level0_col5\" class=\"col_heading level0 col5\" >orientation</th>\n",
       "      <th id=\"T_02882_level0_col6\" class=\"col_heading level0 col6\" >glazing_area</th>\n",
       "      <th id=\"T_02882_level0_col7\" class=\"col_heading level0 col7\" >glazing_area_distribution</th>\n",
       "      <th id=\"T_02882_level0_col8\" class=\"col_heading level0 col8\" >heating_load</th>\n",
       "      <th id=\"T_02882_level0_col9\" class=\"col_heading level0 col9\" >cooling_load</th>\n",
       "    </tr>\n",
       "  </thead>\n",
       "  <tbody>\n",
       "    <tr>\n",
       "      <th id=\"T_02882_level0_row0\" class=\"row_heading level0 row0\" >0</th>\n",
       "      <td id=\"T_02882_row0_col0\" class=\"data row0 col0\" >0.980000</td>\n",
       "      <td id=\"T_02882_row0_col1\" class=\"data row0 col1\" >514.500000</td>\n",
       "      <td id=\"T_02882_row0_col2\" class=\"data row0 col2\" >294.000000</td>\n",
       "      <td id=\"T_02882_row0_col3\" class=\"data row0 col3\" >110.250000</td>\n",
       "      <td id=\"T_02882_row0_col4\" class=\"data row0 col4\" >7.000000</td>\n",
       "      <td id=\"T_02882_row0_col5\" class=\"data row0 col5\" >2</td>\n",
       "      <td id=\"T_02882_row0_col6\" class=\"data row0 col6\" >0.000000</td>\n",
       "      <td id=\"T_02882_row0_col7\" class=\"data row0 col7\" >0</td>\n",
       "      <td id=\"T_02882_row0_col8\" class=\"data row0 col8\" >15.550000</td>\n",
       "      <td id=\"T_02882_row0_col9\" class=\"data row0 col9\" >21.330000</td>\n",
       "    </tr>\n",
       "    <tr>\n",
       "      <th id=\"T_02882_level0_row1\" class=\"row_heading level0 row1\" >1</th>\n",
       "      <td id=\"T_02882_row1_col0\" class=\"data row1 col0\" >0.980000</td>\n",
       "      <td id=\"T_02882_row1_col1\" class=\"data row1 col1\" >514.500000</td>\n",
       "      <td id=\"T_02882_row1_col2\" class=\"data row1 col2\" >294.000000</td>\n",
       "      <td id=\"T_02882_row1_col3\" class=\"data row1 col3\" >110.250000</td>\n",
       "      <td id=\"T_02882_row1_col4\" class=\"data row1 col4\" >7.000000</td>\n",
       "      <td id=\"T_02882_row1_col5\" class=\"data row1 col5\" >3</td>\n",
       "      <td id=\"T_02882_row1_col6\" class=\"data row1 col6\" >0.000000</td>\n",
       "      <td id=\"T_02882_row1_col7\" class=\"data row1 col7\" >0</td>\n",
       "      <td id=\"T_02882_row1_col8\" class=\"data row1 col8\" >15.550000</td>\n",
       "      <td id=\"T_02882_row1_col9\" class=\"data row1 col9\" >21.330000</td>\n",
       "    </tr>\n",
       "    <tr>\n",
       "      <th id=\"T_02882_level0_row2\" class=\"row_heading level0 row2\" >2</th>\n",
       "      <td id=\"T_02882_row2_col0\" class=\"data row2 col0\" >0.980000</td>\n",
       "      <td id=\"T_02882_row2_col1\" class=\"data row2 col1\" >514.500000</td>\n",
       "      <td id=\"T_02882_row2_col2\" class=\"data row2 col2\" >294.000000</td>\n",
       "      <td id=\"T_02882_row2_col3\" class=\"data row2 col3\" >110.250000</td>\n",
       "      <td id=\"T_02882_row2_col4\" class=\"data row2 col4\" >7.000000</td>\n",
       "      <td id=\"T_02882_row2_col5\" class=\"data row2 col5\" >4</td>\n",
       "      <td id=\"T_02882_row2_col6\" class=\"data row2 col6\" >0.000000</td>\n",
       "      <td id=\"T_02882_row2_col7\" class=\"data row2 col7\" >0</td>\n",
       "      <td id=\"T_02882_row2_col8\" class=\"data row2 col8\" >15.550000</td>\n",
       "      <td id=\"T_02882_row2_col9\" class=\"data row2 col9\" >21.330000</td>\n",
       "    </tr>\n",
       "    <tr>\n",
       "      <th id=\"T_02882_level0_row3\" class=\"row_heading level0 row3\" >3</th>\n",
       "      <td id=\"T_02882_row3_col0\" class=\"data row3 col0\" >0.980000</td>\n",
       "      <td id=\"T_02882_row3_col1\" class=\"data row3 col1\" >514.500000</td>\n",
       "      <td id=\"T_02882_row3_col2\" class=\"data row3 col2\" >294.000000</td>\n",
       "      <td id=\"T_02882_row3_col3\" class=\"data row3 col3\" >110.250000</td>\n",
       "      <td id=\"T_02882_row3_col4\" class=\"data row3 col4\" >7.000000</td>\n",
       "      <td id=\"T_02882_row3_col5\" class=\"data row3 col5\" >5</td>\n",
       "      <td id=\"T_02882_row3_col6\" class=\"data row3 col6\" >0.000000</td>\n",
       "      <td id=\"T_02882_row3_col7\" class=\"data row3 col7\" >0</td>\n",
       "      <td id=\"T_02882_row3_col8\" class=\"data row3 col8\" >15.550000</td>\n",
       "      <td id=\"T_02882_row3_col9\" class=\"data row3 col9\" >21.330000</td>\n",
       "    </tr>\n",
       "    <tr>\n",
       "      <th id=\"T_02882_level0_row4\" class=\"row_heading level0 row4\" >4</th>\n",
       "      <td id=\"T_02882_row4_col0\" class=\"data row4 col0\" >0.900000</td>\n",
       "      <td id=\"T_02882_row4_col1\" class=\"data row4 col1\" >563.500000</td>\n",
       "      <td id=\"T_02882_row4_col2\" class=\"data row4 col2\" >318.500000</td>\n",
       "      <td id=\"T_02882_row4_col3\" class=\"data row4 col3\" >122.500000</td>\n",
       "      <td id=\"T_02882_row4_col4\" class=\"data row4 col4\" >7.000000</td>\n",
       "      <td id=\"T_02882_row4_col5\" class=\"data row4 col5\" >2</td>\n",
       "      <td id=\"T_02882_row4_col6\" class=\"data row4 col6\" >0.000000</td>\n",
       "      <td id=\"T_02882_row4_col7\" class=\"data row4 col7\" >0</td>\n",
       "      <td id=\"T_02882_row4_col8\" class=\"data row4 col8\" >20.840000</td>\n",
       "      <td id=\"T_02882_row4_col9\" class=\"data row4 col9\" >28.280000</td>\n",
       "    </tr>\n",
       "    <tr>\n",
       "      <th id=\"T_02882_level0_row5\" class=\"row_heading level0 row5\" >5</th>\n",
       "      <td id=\"T_02882_row5_col0\" class=\"data row5 col0\" >0.900000</td>\n",
       "      <td id=\"T_02882_row5_col1\" class=\"data row5 col1\" >563.500000</td>\n",
       "      <td id=\"T_02882_row5_col2\" class=\"data row5 col2\" >318.500000</td>\n",
       "      <td id=\"T_02882_row5_col3\" class=\"data row5 col3\" >122.500000</td>\n",
       "      <td id=\"T_02882_row5_col4\" class=\"data row5 col4\" >7.000000</td>\n",
       "      <td id=\"T_02882_row5_col5\" class=\"data row5 col5\" >3</td>\n",
       "      <td id=\"T_02882_row5_col6\" class=\"data row5 col6\" >0.000000</td>\n",
       "      <td id=\"T_02882_row5_col7\" class=\"data row5 col7\" >0</td>\n",
       "      <td id=\"T_02882_row5_col8\" class=\"data row5 col8\" >21.460000</td>\n",
       "      <td id=\"T_02882_row5_col9\" class=\"data row5 col9\" >25.380000</td>\n",
       "    </tr>\n",
       "    <tr>\n",
       "      <th id=\"T_02882_level0_row6\" class=\"row_heading level0 row6\" >6</th>\n",
       "      <td id=\"T_02882_row6_col0\" class=\"data row6 col0\" >0.900000</td>\n",
       "      <td id=\"T_02882_row6_col1\" class=\"data row6 col1\" >563.500000</td>\n",
       "      <td id=\"T_02882_row6_col2\" class=\"data row6 col2\" >318.500000</td>\n",
       "      <td id=\"T_02882_row6_col3\" class=\"data row6 col3\" >122.500000</td>\n",
       "      <td id=\"T_02882_row6_col4\" class=\"data row6 col4\" >7.000000</td>\n",
       "      <td id=\"T_02882_row6_col5\" class=\"data row6 col5\" >4</td>\n",
       "      <td id=\"T_02882_row6_col6\" class=\"data row6 col6\" >0.000000</td>\n",
       "      <td id=\"T_02882_row6_col7\" class=\"data row6 col7\" >0</td>\n",
       "      <td id=\"T_02882_row6_col8\" class=\"data row6 col8\" >20.710000</td>\n",
       "      <td id=\"T_02882_row6_col9\" class=\"data row6 col9\" >25.160000</td>\n",
       "    </tr>\n",
       "    <tr>\n",
       "      <th id=\"T_02882_level0_row7\" class=\"row_heading level0 row7\" >7</th>\n",
       "      <td id=\"T_02882_row7_col0\" class=\"data row7 col0\" >0.900000</td>\n",
       "      <td id=\"T_02882_row7_col1\" class=\"data row7 col1\" >563.500000</td>\n",
       "      <td id=\"T_02882_row7_col2\" class=\"data row7 col2\" >318.500000</td>\n",
       "      <td id=\"T_02882_row7_col3\" class=\"data row7 col3\" >122.500000</td>\n",
       "      <td id=\"T_02882_row7_col4\" class=\"data row7 col4\" >7.000000</td>\n",
       "      <td id=\"T_02882_row7_col5\" class=\"data row7 col5\" >5</td>\n",
       "      <td id=\"T_02882_row7_col6\" class=\"data row7 col6\" >0.000000</td>\n",
       "      <td id=\"T_02882_row7_col7\" class=\"data row7 col7\" >0</td>\n",
       "      <td id=\"T_02882_row7_col8\" class=\"data row7 col8\" >19.680000</td>\n",
       "      <td id=\"T_02882_row7_col9\" class=\"data row7 col9\" >29.600000</td>\n",
       "    </tr>\n",
       "    <tr>\n",
       "      <th id=\"T_02882_level0_row8\" class=\"row_heading level0 row8\" >8</th>\n",
       "      <td id=\"T_02882_row8_col0\" class=\"data row8 col0\" >0.860000</td>\n",
       "      <td id=\"T_02882_row8_col1\" class=\"data row8 col1\" >588.000000</td>\n",
       "      <td id=\"T_02882_row8_col2\" class=\"data row8 col2\" >294.000000</td>\n",
       "      <td id=\"T_02882_row8_col3\" class=\"data row8 col3\" >147.000000</td>\n",
       "      <td id=\"T_02882_row8_col4\" class=\"data row8 col4\" >7.000000</td>\n",
       "      <td id=\"T_02882_row8_col5\" class=\"data row8 col5\" >2</td>\n",
       "      <td id=\"T_02882_row8_col6\" class=\"data row8 col6\" >0.000000</td>\n",
       "      <td id=\"T_02882_row8_col7\" class=\"data row8 col7\" >0</td>\n",
       "      <td id=\"T_02882_row8_col8\" class=\"data row8 col8\" >19.500000</td>\n",
       "      <td id=\"T_02882_row8_col9\" class=\"data row8 col9\" >27.300000</td>\n",
       "    </tr>\n",
       "    <tr>\n",
       "      <th id=\"T_02882_level0_row9\" class=\"row_heading level0 row9\" >9</th>\n",
       "      <td id=\"T_02882_row9_col0\" class=\"data row9 col0\" >0.860000</td>\n",
       "      <td id=\"T_02882_row9_col1\" class=\"data row9 col1\" >588.000000</td>\n",
       "      <td id=\"T_02882_row9_col2\" class=\"data row9 col2\" >294.000000</td>\n",
       "      <td id=\"T_02882_row9_col3\" class=\"data row9 col3\" >147.000000</td>\n",
       "      <td id=\"T_02882_row9_col4\" class=\"data row9 col4\" >7.000000</td>\n",
       "      <td id=\"T_02882_row9_col5\" class=\"data row9 col5\" >3</td>\n",
       "      <td id=\"T_02882_row9_col6\" class=\"data row9 col6\" >0.000000</td>\n",
       "      <td id=\"T_02882_row9_col7\" class=\"data row9 col7\" >0</td>\n",
       "      <td id=\"T_02882_row9_col8\" class=\"data row9 col8\" >19.950000</td>\n",
       "      <td id=\"T_02882_row9_col9\" class=\"data row9 col9\" >21.970000</td>\n",
       "    </tr>\n",
       "    <tr>\n",
       "      <th id=\"T_02882_level0_row10\" class=\"row_heading level0 row10\" >10</th>\n",
       "      <td id=\"T_02882_row10_col0\" class=\"data row10 col0\" >0.860000</td>\n",
       "      <td id=\"T_02882_row10_col1\" class=\"data row10 col1\" >588.000000</td>\n",
       "      <td id=\"T_02882_row10_col2\" class=\"data row10 col2\" >294.000000</td>\n",
       "      <td id=\"T_02882_row10_col3\" class=\"data row10 col3\" >147.000000</td>\n",
       "      <td id=\"T_02882_row10_col4\" class=\"data row10 col4\" >7.000000</td>\n",
       "      <td id=\"T_02882_row10_col5\" class=\"data row10 col5\" >4</td>\n",
       "      <td id=\"T_02882_row10_col6\" class=\"data row10 col6\" >0.000000</td>\n",
       "      <td id=\"T_02882_row10_col7\" class=\"data row10 col7\" >0</td>\n",
       "      <td id=\"T_02882_row10_col8\" class=\"data row10 col8\" >19.340000</td>\n",
       "      <td id=\"T_02882_row10_col9\" class=\"data row10 col9\" >23.490000</td>\n",
       "    </tr>\n",
       "    <tr>\n",
       "      <th id=\"T_02882_level0_row11\" class=\"row_heading level0 row11\" >11</th>\n",
       "      <td id=\"T_02882_row11_col0\" class=\"data row11 col0\" >0.860000</td>\n",
       "      <td id=\"T_02882_row11_col1\" class=\"data row11 col1\" >588.000000</td>\n",
       "      <td id=\"T_02882_row11_col2\" class=\"data row11 col2\" >294.000000</td>\n",
       "      <td id=\"T_02882_row11_col3\" class=\"data row11 col3\" >147.000000</td>\n",
       "      <td id=\"T_02882_row11_col4\" class=\"data row11 col4\" >7.000000</td>\n",
       "      <td id=\"T_02882_row11_col5\" class=\"data row11 col5\" >5</td>\n",
       "      <td id=\"T_02882_row11_col6\" class=\"data row11 col6\" >0.000000</td>\n",
       "      <td id=\"T_02882_row11_col7\" class=\"data row11 col7\" >0</td>\n",
       "      <td id=\"T_02882_row11_col8\" class=\"data row11 col8\" >18.310000</td>\n",
       "      <td id=\"T_02882_row11_col9\" class=\"data row11 col9\" >27.870000</td>\n",
       "    </tr>\n",
       "    <tr>\n",
       "      <th id=\"T_02882_level0_row12\" class=\"row_heading level0 row12\" >12</th>\n",
       "      <td id=\"T_02882_row12_col0\" class=\"data row12 col0\" >0.820000</td>\n",
       "      <td id=\"T_02882_row12_col1\" class=\"data row12 col1\" >612.500000</td>\n",
       "      <td id=\"T_02882_row12_col2\" class=\"data row12 col2\" >318.500000</td>\n",
       "      <td id=\"T_02882_row12_col3\" class=\"data row12 col3\" >147.000000</td>\n",
       "      <td id=\"T_02882_row12_col4\" class=\"data row12 col4\" >7.000000</td>\n",
       "      <td id=\"T_02882_row12_col5\" class=\"data row12 col5\" >2</td>\n",
       "      <td id=\"T_02882_row12_col6\" class=\"data row12 col6\" >0.000000</td>\n",
       "      <td id=\"T_02882_row12_col7\" class=\"data row12 col7\" >0</td>\n",
       "      <td id=\"T_02882_row12_col8\" class=\"data row12 col8\" >17.050000</td>\n",
       "      <td id=\"T_02882_row12_col9\" class=\"data row12 col9\" >23.770000</td>\n",
       "    </tr>\n",
       "    <tr>\n",
       "      <th id=\"T_02882_level0_row13\" class=\"row_heading level0 row13\" >13</th>\n",
       "      <td id=\"T_02882_row13_col0\" class=\"data row13 col0\" >0.820000</td>\n",
       "      <td id=\"T_02882_row13_col1\" class=\"data row13 col1\" >612.500000</td>\n",
       "      <td id=\"T_02882_row13_col2\" class=\"data row13 col2\" >318.500000</td>\n",
       "      <td id=\"T_02882_row13_col3\" class=\"data row13 col3\" >147.000000</td>\n",
       "      <td id=\"T_02882_row13_col4\" class=\"data row13 col4\" >7.000000</td>\n",
       "      <td id=\"T_02882_row13_col5\" class=\"data row13 col5\" >3</td>\n",
       "      <td id=\"T_02882_row13_col6\" class=\"data row13 col6\" >0.000000</td>\n",
       "      <td id=\"T_02882_row13_col7\" class=\"data row13 col7\" >0</td>\n",
       "      <td id=\"T_02882_row13_col8\" class=\"data row13 col8\" >17.410000</td>\n",
       "      <td id=\"T_02882_row13_col9\" class=\"data row13 col9\" >21.460000</td>\n",
       "    </tr>\n",
       "    <tr>\n",
       "      <th id=\"T_02882_level0_row14\" class=\"row_heading level0 row14\" >14</th>\n",
       "      <td id=\"T_02882_row14_col0\" class=\"data row14 col0\" >0.820000</td>\n",
       "      <td id=\"T_02882_row14_col1\" class=\"data row14 col1\" >612.500000</td>\n",
       "      <td id=\"T_02882_row14_col2\" class=\"data row14 col2\" >318.500000</td>\n",
       "      <td id=\"T_02882_row14_col3\" class=\"data row14 col3\" >147.000000</td>\n",
       "      <td id=\"T_02882_row14_col4\" class=\"data row14 col4\" >7.000000</td>\n",
       "      <td id=\"T_02882_row14_col5\" class=\"data row14 col5\" >4</td>\n",
       "      <td id=\"T_02882_row14_col6\" class=\"data row14 col6\" >0.000000</td>\n",
       "      <td id=\"T_02882_row14_col7\" class=\"data row14 col7\" >0</td>\n",
       "      <td id=\"T_02882_row14_col8\" class=\"data row14 col8\" >16.950000</td>\n",
       "      <td id=\"T_02882_row14_col9\" class=\"data row14 col9\" >21.160000</td>\n",
       "    </tr>\n",
       "    <tr>\n",
       "      <th id=\"T_02882_level0_row15\" class=\"row_heading level0 row15\" >15</th>\n",
       "      <td id=\"T_02882_row15_col0\" class=\"data row15 col0\" >0.820000</td>\n",
       "      <td id=\"T_02882_row15_col1\" class=\"data row15 col1\" >612.500000</td>\n",
       "      <td id=\"T_02882_row15_col2\" class=\"data row15 col2\" >318.500000</td>\n",
       "      <td id=\"T_02882_row15_col3\" class=\"data row15 col3\" >147.000000</td>\n",
       "      <td id=\"T_02882_row15_col4\" class=\"data row15 col4\" >7.000000</td>\n",
       "      <td id=\"T_02882_row15_col5\" class=\"data row15 col5\" >5</td>\n",
       "      <td id=\"T_02882_row15_col6\" class=\"data row15 col6\" >0.000000</td>\n",
       "      <td id=\"T_02882_row15_col7\" class=\"data row15 col7\" >0</td>\n",
       "      <td id=\"T_02882_row15_col8\" class=\"data row15 col8\" >15.980000</td>\n",
       "      <td id=\"T_02882_row15_col9\" class=\"data row15 col9\" >24.930000</td>\n",
       "    </tr>\n",
       "    <tr>\n",
       "      <th id=\"T_02882_level0_row16\" class=\"row_heading level0 row16\" >16</th>\n",
       "      <td id=\"T_02882_row16_col0\" class=\"data row16 col0\" >0.790000</td>\n",
       "      <td id=\"T_02882_row16_col1\" class=\"data row16 col1\" >637.000000</td>\n",
       "      <td id=\"T_02882_row16_col2\" class=\"data row16 col2\" >343.000000</td>\n",
       "      <td id=\"T_02882_row16_col3\" class=\"data row16 col3\" >147.000000</td>\n",
       "      <td id=\"T_02882_row16_col4\" class=\"data row16 col4\" >7.000000</td>\n",
       "      <td id=\"T_02882_row16_col5\" class=\"data row16 col5\" >2</td>\n",
       "      <td id=\"T_02882_row16_col6\" class=\"data row16 col6\" >0.000000</td>\n",
       "      <td id=\"T_02882_row16_col7\" class=\"data row16 col7\" >0</td>\n",
       "      <td id=\"T_02882_row16_col8\" class=\"data row16 col8\" >28.520000</td>\n",
       "      <td id=\"T_02882_row16_col9\" class=\"data row16 col9\" >37.730000</td>\n",
       "    </tr>\n",
       "    <tr>\n",
       "      <th id=\"T_02882_level0_row17\" class=\"row_heading level0 row17\" >17</th>\n",
       "      <td id=\"T_02882_row17_col0\" class=\"data row17 col0\" >0.790000</td>\n",
       "      <td id=\"T_02882_row17_col1\" class=\"data row17 col1\" >637.000000</td>\n",
       "      <td id=\"T_02882_row17_col2\" class=\"data row17 col2\" >343.000000</td>\n",
       "      <td id=\"T_02882_row17_col3\" class=\"data row17 col3\" >147.000000</td>\n",
       "      <td id=\"T_02882_row17_col4\" class=\"data row17 col4\" >7.000000</td>\n",
       "      <td id=\"T_02882_row17_col5\" class=\"data row17 col5\" >3</td>\n",
       "      <td id=\"T_02882_row17_col6\" class=\"data row17 col6\" >0.000000</td>\n",
       "      <td id=\"T_02882_row17_col7\" class=\"data row17 col7\" >0</td>\n",
       "      <td id=\"T_02882_row17_col8\" class=\"data row17 col8\" >29.900000</td>\n",
       "      <td id=\"T_02882_row17_col9\" class=\"data row17 col9\" >31.270000</td>\n",
       "    </tr>\n",
       "    <tr>\n",
       "      <th id=\"T_02882_level0_row18\" class=\"row_heading level0 row18\" >18</th>\n",
       "      <td id=\"T_02882_row18_col0\" class=\"data row18 col0\" >0.790000</td>\n",
       "      <td id=\"T_02882_row18_col1\" class=\"data row18 col1\" >637.000000</td>\n",
       "      <td id=\"T_02882_row18_col2\" class=\"data row18 col2\" >343.000000</td>\n",
       "      <td id=\"T_02882_row18_col3\" class=\"data row18 col3\" >147.000000</td>\n",
       "      <td id=\"T_02882_row18_col4\" class=\"data row18 col4\" >7.000000</td>\n",
       "      <td id=\"T_02882_row18_col5\" class=\"data row18 col5\" >4</td>\n",
       "      <td id=\"T_02882_row18_col6\" class=\"data row18 col6\" >0.000000</td>\n",
       "      <td id=\"T_02882_row18_col7\" class=\"data row18 col7\" >0</td>\n",
       "      <td id=\"T_02882_row18_col8\" class=\"data row18 col8\" >29.630000</td>\n",
       "      <td id=\"T_02882_row18_col9\" class=\"data row18 col9\" >30.930000</td>\n",
       "    </tr>\n",
       "    <tr>\n",
       "      <th id=\"T_02882_level0_row19\" class=\"row_heading level0 row19\" >19</th>\n",
       "      <td id=\"T_02882_row19_col0\" class=\"data row19 col0\" >0.790000</td>\n",
       "      <td id=\"T_02882_row19_col1\" class=\"data row19 col1\" >637.000000</td>\n",
       "      <td id=\"T_02882_row19_col2\" class=\"data row19 col2\" >343.000000</td>\n",
       "      <td id=\"T_02882_row19_col3\" class=\"data row19 col3\" >147.000000</td>\n",
       "      <td id=\"T_02882_row19_col4\" class=\"data row19 col4\" >7.000000</td>\n",
       "      <td id=\"T_02882_row19_col5\" class=\"data row19 col5\" >5</td>\n",
       "      <td id=\"T_02882_row19_col6\" class=\"data row19 col6\" >0.000000</td>\n",
       "      <td id=\"T_02882_row19_col7\" class=\"data row19 col7\" >0</td>\n",
       "      <td id=\"T_02882_row19_col8\" class=\"data row19 col8\" >28.750000</td>\n",
       "      <td id=\"T_02882_row19_col9\" class=\"data row19 col9\" >39.440000</td>\n",
       "    </tr>\n",
       "    <tr>\n",
       "      <th id=\"T_02882_level0_row20\" class=\"row_heading level0 row20\" >20</th>\n",
       "      <td id=\"T_02882_row20_col0\" class=\"data row20 col0\" >0.760000</td>\n",
       "      <td id=\"T_02882_row20_col1\" class=\"data row20 col1\" >661.500000</td>\n",
       "      <td id=\"T_02882_row20_col2\" class=\"data row20 col2\" >416.500000</td>\n",
       "      <td id=\"T_02882_row20_col3\" class=\"data row20 col3\" >122.500000</td>\n",
       "      <td id=\"T_02882_row20_col4\" class=\"data row20 col4\" >7.000000</td>\n",
       "      <td id=\"T_02882_row20_col5\" class=\"data row20 col5\" >2</td>\n",
       "      <td id=\"T_02882_row20_col6\" class=\"data row20 col6\" >0.000000</td>\n",
       "      <td id=\"T_02882_row20_col7\" class=\"data row20 col7\" >0</td>\n",
       "      <td id=\"T_02882_row20_col8\" class=\"data row20 col8\" >24.770000</td>\n",
       "      <td id=\"T_02882_row20_col9\" class=\"data row20 col9\" >29.790000</td>\n",
       "    </tr>\n",
       "    <tr>\n",
       "      <th id=\"T_02882_level0_row21\" class=\"row_heading level0 row21\" >21</th>\n",
       "      <td id=\"T_02882_row21_col0\" class=\"data row21 col0\" >0.760000</td>\n",
       "      <td id=\"T_02882_row21_col1\" class=\"data row21 col1\" >661.500000</td>\n",
       "      <td id=\"T_02882_row21_col2\" class=\"data row21 col2\" >416.500000</td>\n",
       "      <td id=\"T_02882_row21_col3\" class=\"data row21 col3\" >122.500000</td>\n",
       "      <td id=\"T_02882_row21_col4\" class=\"data row21 col4\" >7.000000</td>\n",
       "      <td id=\"T_02882_row21_col5\" class=\"data row21 col5\" >3</td>\n",
       "      <td id=\"T_02882_row21_col6\" class=\"data row21 col6\" >0.000000</td>\n",
       "      <td id=\"T_02882_row21_col7\" class=\"data row21 col7\" >0</td>\n",
       "      <td id=\"T_02882_row21_col8\" class=\"data row21 col8\" >23.930000</td>\n",
       "      <td id=\"T_02882_row21_col9\" class=\"data row21 col9\" >29.680000</td>\n",
       "    </tr>\n",
       "    <tr>\n",
       "      <th id=\"T_02882_level0_row22\" class=\"row_heading level0 row22\" >22</th>\n",
       "      <td id=\"T_02882_row22_col0\" class=\"data row22 col0\" >0.760000</td>\n",
       "      <td id=\"T_02882_row22_col1\" class=\"data row22 col1\" >661.500000</td>\n",
       "      <td id=\"T_02882_row22_col2\" class=\"data row22 col2\" >416.500000</td>\n",
       "      <td id=\"T_02882_row22_col3\" class=\"data row22 col3\" >122.500000</td>\n",
       "      <td id=\"T_02882_row22_col4\" class=\"data row22 col4\" >7.000000</td>\n",
       "      <td id=\"T_02882_row22_col5\" class=\"data row22 col5\" >4</td>\n",
       "      <td id=\"T_02882_row22_col6\" class=\"data row22 col6\" >0.000000</td>\n",
       "      <td id=\"T_02882_row22_col7\" class=\"data row22 col7\" >0</td>\n",
       "      <td id=\"T_02882_row22_col8\" class=\"data row22 col8\" >24.770000</td>\n",
       "      <td id=\"T_02882_row22_col9\" class=\"data row22 col9\" >29.790000</td>\n",
       "    </tr>\n",
       "    <tr>\n",
       "      <th id=\"T_02882_level0_row23\" class=\"row_heading level0 row23\" >23</th>\n",
       "      <td id=\"T_02882_row23_col0\" class=\"data row23 col0\" >0.760000</td>\n",
       "      <td id=\"T_02882_row23_col1\" class=\"data row23 col1\" >661.500000</td>\n",
       "      <td id=\"T_02882_row23_col2\" class=\"data row23 col2\" >416.500000</td>\n",
       "      <td id=\"T_02882_row23_col3\" class=\"data row23 col3\" >122.500000</td>\n",
       "      <td id=\"T_02882_row23_col4\" class=\"data row23 col4\" >7.000000</td>\n",
       "      <td id=\"T_02882_row23_col5\" class=\"data row23 col5\" >5</td>\n",
       "      <td id=\"T_02882_row23_col6\" class=\"data row23 col6\" >0.000000</td>\n",
       "      <td id=\"T_02882_row23_col7\" class=\"data row23 col7\" >0</td>\n",
       "      <td id=\"T_02882_row23_col8\" class=\"data row23 col8\" >23.930000</td>\n",
       "      <td id=\"T_02882_row23_col9\" class=\"data row23 col9\" >29.400000</td>\n",
       "    </tr>\n",
       "    <tr>\n",
       "      <th id=\"T_02882_level0_row24\" class=\"row_heading level0 row24\" >24</th>\n",
       "      <td id=\"T_02882_row24_col0\" class=\"data row24 col0\" >0.740000</td>\n",
       "      <td id=\"T_02882_row24_col1\" class=\"data row24 col1\" >686.000000</td>\n",
       "      <td id=\"T_02882_row24_col2\" class=\"data row24 col2\" >245.000000</td>\n",
       "      <td id=\"T_02882_row24_col3\" class=\"data row24 col3\" >220.500000</td>\n",
       "      <td id=\"T_02882_row24_col4\" class=\"data row24 col4\" >3.500000</td>\n",
       "      <td id=\"T_02882_row24_col5\" class=\"data row24 col5\" >2</td>\n",
       "      <td id=\"T_02882_row24_col6\" class=\"data row24 col6\" >0.000000</td>\n",
       "      <td id=\"T_02882_row24_col7\" class=\"data row24 col7\" >0</td>\n",
       "      <td id=\"T_02882_row24_col8\" class=\"data row24 col8\" >6.070000</td>\n",
       "      <td id=\"T_02882_row24_col9\" class=\"data row24 col9\" >10.900000</td>\n",
       "    </tr>\n",
       "  </tbody>\n",
       "</table>\n"
      ],
      "text/plain": [
       "<pandas.io.formats.style.Styler at 0x11fa1fe4640>"
      ]
     },
     "execution_count": 85,
     "metadata": {},
     "output_type": "execute_result"
    }
   ],
   "source": [
    "df_class.head(25).style.background_gradient()"
   ]
  },
  {
   "cell_type": "code",
   "execution_count": 11,
   "id": "c18e8092",
   "metadata": {},
   "outputs": [],
   "source": [
    "#! pip install https://github.com/pandas-profiling/pandas-profiling/archive/master.zip\n",
    "# from pandas_profiling import ProfileReport\n",
    "# profile = ProfileReport(df_class, title=\"Energy Efficiency Dataset Profiling Report\")\n",
    "# # create html file to view report\n",
    "# profile.to_file(\"data.html\")\n",
    "# profile"
   ]
  },
  {
   "cell_type": "markdown",
   "id": "8cce77ba",
   "metadata": {},
   "source": [
    "Check for NULL values"
   ]
  },
  {
   "cell_type": "code",
   "execution_count": 12,
   "id": "bd59fde0",
   "metadata": {},
   "outputs": [
    {
     "data": {
      "text/plain": [
       "relative_compactness         0\n",
       "surface_area                 0\n",
       "wall_area                    0\n",
       "roof_area                    0\n",
       "overall_height               0\n",
       "orientation                  0\n",
       "glazing_area                 0\n",
       "glazing_area_distribution    0\n",
       "heating_load                 0\n",
       "cooling_load                 0\n",
       "dtype: int64"
      ]
     },
     "execution_count": 12,
     "metadata": {},
     "output_type": "execute_result"
    }
   ],
   "source": [
    "x = df_class.isnull().sum().sort_values(ascending=False)\n",
    "x"
   ]
  },
  {
   "cell_type": "markdown",
   "id": "baa05cb2",
   "metadata": {},
   "source": [
    "We don't have any NULL values, all the values in all the columns are present."
   ]
  },
  {
   "cell_type": "code",
   "execution_count": 13,
   "id": "145e8448",
   "metadata": {},
   "outputs": [
    {
     "name": "stdout",
     "output_type": "stream",
     "text": [
      "<class 'pandas.core.frame.DataFrame'>\n",
      "RangeIndex: 768 entries, 0 to 767\n",
      "Data columns (total 10 columns):\n",
      " #   Column                     Non-Null Count  Dtype  \n",
      "---  ------                     --------------  -----  \n",
      " 0   relative_compactness       768 non-null    float64\n",
      " 1   surface_area               768 non-null    float64\n",
      " 2   wall_area                  768 non-null    float64\n",
      " 3   roof_area                  768 non-null    float64\n",
      " 4   overall_height             768 non-null    float64\n",
      " 5   orientation                768 non-null    int64  \n",
      " 6   glazing_area               768 non-null    float64\n",
      " 7   glazing_area_distribution  768 non-null    int64  \n",
      " 8   heating_load               768 non-null    float64\n",
      " 9   cooling_load               768 non-null    float64\n",
      "dtypes: float64(8), int64(2)\n",
      "memory usage: 60.1 KB\n"
     ]
    }
   ],
   "source": [
    "df_class.info()"
   ]
  },
  {
   "cell_type": "code",
   "execution_count": 14,
   "id": "84f93db5",
   "metadata": {},
   "outputs": [
    {
     "data": {
      "text/plain": [
       "0.24088541666666666"
      ]
     },
     "execution_count": 14,
     "metadata": {},
     "output_type": "execute_result"
    }
   ],
   "source": [
    "df_class_orientation = df_class[df_class[\"orientation\"] == 5]\n",
    "df_class_orientation.cooling_load.nunique() / len(df_class)"
   ]
  },
  {
   "cell_type": "code",
   "execution_count": 15,
   "id": "5f123919",
   "metadata": {},
   "outputs": [
    {
     "data": {
      "text/html": [
       "<style type=\"text/css\">\n",
       "#T_e56c7_row0_col0, #T_e56c7_row0_col2, #T_e56c7_row0_col3, #T_e56c7_row0_col4, #T_e56c7_row0_col5, #T_e56c7_row0_col6, #T_e56c7_row0_col7, #T_e56c7_row0_col8, #T_e56c7_row0_col9, #T_e56c7_row7_col1 {\n",
       "  background-color: #023858;\n",
       "  color: #f1f1f1;\n",
       "}\n",
       "#T_e56c7_row0_col1 {\n",
       "  background-color: #03476f;\n",
       "  color: #f1f1f1;\n",
       "}\n",
       "#T_e56c7_row1_col0, #T_e56c7_row1_col5, #T_e56c7_row1_col6, #T_e56c7_row1_col7, #T_e56c7_row2_col0, #T_e56c7_row2_col1, #T_e56c7_row2_col2, #T_e56c7_row2_col3, #T_e56c7_row2_col4, #T_e56c7_row2_col5, #T_e56c7_row2_col6, #T_e56c7_row2_col7, #T_e56c7_row2_col9, #T_e56c7_row3_col0, #T_e56c7_row3_col4, #T_e56c7_row3_col5, #T_e56c7_row3_col6, #T_e56c7_row3_col7, #T_e56c7_row3_col8, #T_e56c7_row3_col9, #T_e56c7_row4_col0, #T_e56c7_row4_col4, #T_e56c7_row4_col5, #T_e56c7_row4_col6, #T_e56c7_row4_col7, #T_e56c7_row5_col0, #T_e56c7_row5_col5, #T_e56c7_row5_col6, #T_e56c7_row6_col0, #T_e56c7_row6_col6, #T_e56c7_row7_col0, #T_e56c7_row7_col6 {\n",
       "  background-color: #fff7fb;\n",
       "  color: #000000;\n",
       "}\n",
       "#T_e56c7_row1_col1 {\n",
       "  background-color: #05659f;\n",
       "  color: #f1f1f1;\n",
       "}\n",
       "#T_e56c7_row1_col2, #T_e56c7_row5_col2 {\n",
       "  background-color: #a4bcda;\n",
       "  color: #000000;\n",
       "}\n",
       "#T_e56c7_row1_col3 {\n",
       "  background-color: #e0dded;\n",
       "  color: #000000;\n",
       "}\n",
       "#T_e56c7_row1_col4, #T_e56c7_row2_col8, #T_e56c7_row5_col4, #T_e56c7_row5_col7, #T_e56c7_row6_col4, #T_e56c7_row6_col5, #T_e56c7_row6_col7, #T_e56c7_row7_col4, #T_e56c7_row7_col5, #T_e56c7_row7_col7 {\n",
       "  background-color: #fef6fb;\n",
       "  color: #000000;\n",
       "}\n",
       "#T_e56c7_row1_col8, #T_e56c7_row1_col9 {\n",
       "  background-color: #fcf4fa;\n",
       "  color: #000000;\n",
       "}\n",
       "#T_e56c7_row3_col1 {\n",
       "  background-color: #4697c4;\n",
       "  color: #f1f1f1;\n",
       "}\n",
       "#T_e56c7_row3_col2 {\n",
       "  background-color: #c6cce3;\n",
       "  color: #000000;\n",
       "}\n",
       "#T_e56c7_row3_col3 {\n",
       "  background-color: #f1ebf5;\n",
       "  color: #000000;\n",
       "}\n",
       "#T_e56c7_row4_col1 {\n",
       "  background-color: #1077b4;\n",
       "  color: #f1f1f1;\n",
       "}\n",
       "#T_e56c7_row4_col2 {\n",
       "  background-color: #b0c2de;\n",
       "  color: #000000;\n",
       "}\n",
       "#T_e56c7_row4_col3 {\n",
       "  background-color: #ebe6f2;\n",
       "  color: #000000;\n",
       "}\n",
       "#T_e56c7_row4_col8, #T_e56c7_row4_col9 {\n",
       "  background-color: #fef6fa;\n",
       "  color: #000000;\n",
       "}\n",
       "#T_e56c7_row5_col1 {\n",
       "  background-color: #04649e;\n",
       "  color: #f1f1f1;\n",
       "}\n",
       "#T_e56c7_row5_col3 {\n",
       "  background-color: #dddbec;\n",
       "  color: #000000;\n",
       "}\n",
       "#T_e56c7_row5_col8, #T_e56c7_row5_col9 {\n",
       "  background-color: #fdf5fa;\n",
       "  color: #000000;\n",
       "}\n",
       "#T_e56c7_row6_col1 {\n",
       "  background-color: #03517e;\n",
       "  color: #f1f1f1;\n",
       "}\n",
       "#T_e56c7_row6_col2 {\n",
       "  background-color: #97b7d7;\n",
       "  color: #000000;\n",
       "}\n",
       "#T_e56c7_row6_col3, #T_e56c7_row7_col3 {\n",
       "  background-color: #d2d2e7;\n",
       "  color: #000000;\n",
       "}\n",
       "#T_e56c7_row6_col8 {\n",
       "  background-color: #faf3f9;\n",
       "  color: #000000;\n",
       "}\n",
       "#T_e56c7_row6_col9 {\n",
       "  background-color: #fbf3f9;\n",
       "  color: #000000;\n",
       "}\n",
       "#T_e56c7_row7_col2 {\n",
       "  background-color: #6da6cd;\n",
       "  color: #f1f1f1;\n",
       "}\n",
       "#T_e56c7_row7_col8, #T_e56c7_row7_col9 {\n",
       "  background-color: #f8f1f8;\n",
       "  color: #000000;\n",
       "}\n",
       "</style>\n",
       "<table id=\"T_e56c7\">\n",
       "  <thead>\n",
       "    <tr>\n",
       "      <th class=\"blank level0\" >&nbsp;</th>\n",
       "      <th id=\"T_e56c7_level0_col0\" class=\"col_heading level0 col0\" >relative_compactness</th>\n",
       "      <th id=\"T_e56c7_level0_col1\" class=\"col_heading level0 col1\" >surface_area</th>\n",
       "      <th id=\"T_e56c7_level0_col2\" class=\"col_heading level0 col2\" >wall_area</th>\n",
       "      <th id=\"T_e56c7_level0_col3\" class=\"col_heading level0 col3\" >roof_area</th>\n",
       "      <th id=\"T_e56c7_level0_col4\" class=\"col_heading level0 col4\" >overall_height</th>\n",
       "      <th id=\"T_e56c7_level0_col5\" class=\"col_heading level0 col5\" >orientation</th>\n",
       "      <th id=\"T_e56c7_level0_col6\" class=\"col_heading level0 col6\" >glazing_area</th>\n",
       "      <th id=\"T_e56c7_level0_col7\" class=\"col_heading level0 col7\" >glazing_area_distribution</th>\n",
       "      <th id=\"T_e56c7_level0_col8\" class=\"col_heading level0 col8\" >heating_load</th>\n",
       "      <th id=\"T_e56c7_level0_col9\" class=\"col_heading level0 col9\" >cooling_load</th>\n",
       "    </tr>\n",
       "  </thead>\n",
       "  <tbody>\n",
       "    <tr>\n",
       "      <th id=\"T_e56c7_level0_row0\" class=\"row_heading level0 row0\" >count</th>\n",
       "      <td id=\"T_e56c7_row0_col0\" class=\"data row0 col0\" >768.000000</td>\n",
       "      <td id=\"T_e56c7_row0_col1\" class=\"data row0 col1\" >768.000000</td>\n",
       "      <td id=\"T_e56c7_row0_col2\" class=\"data row0 col2\" >768.000000</td>\n",
       "      <td id=\"T_e56c7_row0_col3\" class=\"data row0 col3\" >768.000000</td>\n",
       "      <td id=\"T_e56c7_row0_col4\" class=\"data row0 col4\" >768.000000</td>\n",
       "      <td id=\"T_e56c7_row0_col5\" class=\"data row0 col5\" >768.000000</td>\n",
       "      <td id=\"T_e56c7_row0_col6\" class=\"data row0 col6\" >768.000000</td>\n",
       "      <td id=\"T_e56c7_row0_col7\" class=\"data row0 col7\" >768.000000</td>\n",
       "      <td id=\"T_e56c7_row0_col8\" class=\"data row0 col8\" >768.000000</td>\n",
       "      <td id=\"T_e56c7_row0_col9\" class=\"data row0 col9\" >768.000000</td>\n",
       "    </tr>\n",
       "    <tr>\n",
       "      <th id=\"T_e56c7_level0_row1\" class=\"row_heading level0 row1\" >mean</th>\n",
       "      <td id=\"T_e56c7_row1_col0\" class=\"data row1 col0\" >0.764167</td>\n",
       "      <td id=\"T_e56c7_row1_col1\" class=\"data row1 col1\" >671.708333</td>\n",
       "      <td id=\"T_e56c7_row1_col2\" class=\"data row1 col2\" >318.500000</td>\n",
       "      <td id=\"T_e56c7_row1_col3\" class=\"data row1 col3\" >176.604167</td>\n",
       "      <td id=\"T_e56c7_row1_col4\" class=\"data row1 col4\" >5.250000</td>\n",
       "      <td id=\"T_e56c7_row1_col5\" class=\"data row1 col5\" >3.500000</td>\n",
       "      <td id=\"T_e56c7_row1_col6\" class=\"data row1 col6\" >0.234375</td>\n",
       "      <td id=\"T_e56c7_row1_col7\" class=\"data row1 col7\" >2.812500</td>\n",
       "      <td id=\"T_e56c7_row1_col8\" class=\"data row1 col8\" >22.307201</td>\n",
       "      <td id=\"T_e56c7_row1_col9\" class=\"data row1 col9\" >24.587760</td>\n",
       "    </tr>\n",
       "    <tr>\n",
       "      <th id=\"T_e56c7_level0_row2\" class=\"row_heading level0 row2\" >std</th>\n",
       "      <td id=\"T_e56c7_row2_col0\" class=\"data row2 col0\" >0.105777</td>\n",
       "      <td id=\"T_e56c7_row2_col1\" class=\"data row2 col1\" >88.086116</td>\n",
       "      <td id=\"T_e56c7_row2_col2\" class=\"data row2 col2\" >43.626481</td>\n",
       "      <td id=\"T_e56c7_row2_col3\" class=\"data row2 col3\" >45.165950</td>\n",
       "      <td id=\"T_e56c7_row2_col4\" class=\"data row2 col4\" >1.751140</td>\n",
       "      <td id=\"T_e56c7_row2_col5\" class=\"data row2 col5\" >1.118763</td>\n",
       "      <td id=\"T_e56c7_row2_col6\" class=\"data row2 col6\" >0.133221</td>\n",
       "      <td id=\"T_e56c7_row2_col7\" class=\"data row2 col7\" >1.550960</td>\n",
       "      <td id=\"T_e56c7_row2_col8\" class=\"data row2 col8\" >10.090196</td>\n",
       "      <td id=\"T_e56c7_row2_col9\" class=\"data row2 col9\" >9.513306</td>\n",
       "    </tr>\n",
       "    <tr>\n",
       "      <th id=\"T_e56c7_level0_row3\" class=\"row_heading level0 row3\" >min</th>\n",
       "      <td id=\"T_e56c7_row3_col0\" class=\"data row3 col0\" >0.620000</td>\n",
       "      <td id=\"T_e56c7_row3_col1\" class=\"data row3 col1\" >514.500000</td>\n",
       "      <td id=\"T_e56c7_row3_col2\" class=\"data row3 col2\" >245.000000</td>\n",
       "      <td id=\"T_e56c7_row3_col3\" class=\"data row3 col3\" >110.250000</td>\n",
       "      <td id=\"T_e56c7_row3_col4\" class=\"data row3 col4\" >3.500000</td>\n",
       "      <td id=\"T_e56c7_row3_col5\" class=\"data row3 col5\" >2.000000</td>\n",
       "      <td id=\"T_e56c7_row3_col6\" class=\"data row3 col6\" >0.000000</td>\n",
       "      <td id=\"T_e56c7_row3_col7\" class=\"data row3 col7\" >0.000000</td>\n",
       "      <td id=\"T_e56c7_row3_col8\" class=\"data row3 col8\" >6.010000</td>\n",
       "      <td id=\"T_e56c7_row3_col9\" class=\"data row3 col9\" >10.900000</td>\n",
       "    </tr>\n",
       "    <tr>\n",
       "      <th id=\"T_e56c7_level0_row4\" class=\"row_heading level0 row4\" >25%</th>\n",
       "      <td id=\"T_e56c7_row4_col0\" class=\"data row4 col0\" >0.682500</td>\n",
       "      <td id=\"T_e56c7_row4_col1\" class=\"data row4 col1\" >606.375000</td>\n",
       "      <td id=\"T_e56c7_row4_col2\" class=\"data row4 col2\" >294.000000</td>\n",
       "      <td id=\"T_e56c7_row4_col3\" class=\"data row4 col3\" >140.875000</td>\n",
       "      <td id=\"T_e56c7_row4_col4\" class=\"data row4 col4\" >3.500000</td>\n",
       "      <td id=\"T_e56c7_row4_col5\" class=\"data row4 col5\" >2.750000</td>\n",
       "      <td id=\"T_e56c7_row4_col6\" class=\"data row4 col6\" >0.100000</td>\n",
       "      <td id=\"T_e56c7_row4_col7\" class=\"data row4 col7\" >1.750000</td>\n",
       "      <td id=\"T_e56c7_row4_col8\" class=\"data row4 col8\" >12.992500</td>\n",
       "      <td id=\"T_e56c7_row4_col9\" class=\"data row4 col9\" >15.620000</td>\n",
       "    </tr>\n",
       "    <tr>\n",
       "      <th id=\"T_e56c7_level0_row5\" class=\"row_heading level0 row5\" >50%</th>\n",
       "      <td id=\"T_e56c7_row5_col0\" class=\"data row5 col0\" >0.750000</td>\n",
       "      <td id=\"T_e56c7_row5_col1\" class=\"data row5 col1\" >673.750000</td>\n",
       "      <td id=\"T_e56c7_row5_col2\" class=\"data row5 col2\" >318.500000</td>\n",
       "      <td id=\"T_e56c7_row5_col3\" class=\"data row5 col3\" >183.750000</td>\n",
       "      <td id=\"T_e56c7_row5_col4\" class=\"data row5 col4\" >5.250000</td>\n",
       "      <td id=\"T_e56c7_row5_col5\" class=\"data row5 col5\" >3.500000</td>\n",
       "      <td id=\"T_e56c7_row5_col6\" class=\"data row5 col6\" >0.250000</td>\n",
       "      <td id=\"T_e56c7_row5_col7\" class=\"data row5 col7\" >3.000000</td>\n",
       "      <td id=\"T_e56c7_row5_col8\" class=\"data row5 col8\" >18.950000</td>\n",
       "      <td id=\"T_e56c7_row5_col9\" class=\"data row5 col9\" >22.080000</td>\n",
       "    </tr>\n",
       "    <tr>\n",
       "      <th id=\"T_e56c7_level0_row6\" class=\"row_heading level0 row6\" >75%</th>\n",
       "      <td id=\"T_e56c7_row6_col0\" class=\"data row6 col0\" >0.830000</td>\n",
       "      <td id=\"T_e56c7_row6_col1\" class=\"data row6 col1\" >741.125000</td>\n",
       "      <td id=\"T_e56c7_row6_col2\" class=\"data row6 col2\" >343.000000</td>\n",
       "      <td id=\"T_e56c7_row6_col3\" class=\"data row6 col3\" >220.500000</td>\n",
       "      <td id=\"T_e56c7_row6_col4\" class=\"data row6 col4\" >7.000000</td>\n",
       "      <td id=\"T_e56c7_row6_col5\" class=\"data row6 col5\" >4.250000</td>\n",
       "      <td id=\"T_e56c7_row6_col6\" class=\"data row6 col6\" >0.400000</td>\n",
       "      <td id=\"T_e56c7_row6_col7\" class=\"data row6 col7\" >4.000000</td>\n",
       "      <td id=\"T_e56c7_row6_col8\" class=\"data row6 col8\" >31.667500</td>\n",
       "      <td id=\"T_e56c7_row6_col9\" class=\"data row6 col9\" >33.132500</td>\n",
       "    </tr>\n",
       "    <tr>\n",
       "      <th id=\"T_e56c7_level0_row7\" class=\"row_heading level0 row7\" >max</th>\n",
       "      <td id=\"T_e56c7_row7_col0\" class=\"data row7 col0\" >0.980000</td>\n",
       "      <td id=\"T_e56c7_row7_col1\" class=\"data row7 col1\" >808.500000</td>\n",
       "      <td id=\"T_e56c7_row7_col2\" class=\"data row7 col2\" >416.500000</td>\n",
       "      <td id=\"T_e56c7_row7_col3\" class=\"data row7 col3\" >220.500000</td>\n",
       "      <td id=\"T_e56c7_row7_col4\" class=\"data row7 col4\" >7.000000</td>\n",
       "      <td id=\"T_e56c7_row7_col5\" class=\"data row7 col5\" >5.000000</td>\n",
       "      <td id=\"T_e56c7_row7_col6\" class=\"data row7 col6\" >0.400000</td>\n",
       "      <td id=\"T_e56c7_row7_col7\" class=\"data row7 col7\" >5.000000</td>\n",
       "      <td id=\"T_e56c7_row7_col8\" class=\"data row7 col8\" >43.100000</td>\n",
       "      <td id=\"T_e56c7_row7_col9\" class=\"data row7 col9\" >48.030000</td>\n",
       "    </tr>\n",
       "  </tbody>\n",
       "</table>\n"
      ],
      "text/plain": [
       "<pandas.io.formats.style.Styler at 0x11f9f1e8dc0>"
      ]
     },
     "execution_count": 15,
     "metadata": {},
     "output_type": "execute_result"
    }
   ],
   "source": [
    "df_class.describe().style.background_gradient()"
   ]
  },
  {
   "cell_type": "code",
   "execution_count": 16,
   "id": "a23ad512",
   "metadata": {},
   "outputs": [],
   "source": [
    "# sns.set()\n",
    "# cols = [\n",
    "#     'relative_compactness', 'surface_area', 'wall_area', 'roof_area',\n",
    "#     'overall_height', 'orientation', 'glazing_area',\n",
    "#     'glazing_area_distribution', 'heating_load', 'cooling_load'\n",
    "# ]\n",
    "# sns.pairplot(df_class[cols], size=2.5)\n",
    "# plt.show()"
   ]
  },
  {
   "cell_type": "code",
   "execution_count": 17,
   "id": "29a79b7b",
   "metadata": {},
   "outputs": [
    {
     "data": {
      "image/png": "[encoded data removed]",
      "text/plain": [
       "<Figure size 2000x1000 with 10 Axes>"
      ]
     },
     "metadata": {},
     "output_type": "display_data"
    }
   ],
   "source": [
    "fig, axs = plt.subplots(ncols=5, nrows=2, figsize=(20, 10))\n",
    "index = 0\n",
    "axs = axs.flatten()\n",
    "for k, v in df_class.items():\n",
    "    sns.boxplot(y=k, data=df_class, ax=axs[index])\n",
    "    index += 1\n",
    "plt.tight_layout(pad=0.4, w_pad=0.5, h_pad=5.0)"
   ]
  },
  {
   "cell_type": "markdown",
   "id": "0edf44e6",
   "metadata": {},
   "source": [
    "We don't seem to have outliers"
   ]
  },
  {
   "cell_type": "code",
   "execution_count": 18,
   "id": "24071e54",
   "metadata": {},
   "outputs": [
    {
     "data": {
      "text/plain": [
       "relative_compactness          12\n",
       "surface_area                  12\n",
       "wall_area                      7\n",
       "roof_area                      4\n",
       "overall_height                 2\n",
       "orientation                    4\n",
       "glazing_area                   4\n",
       "glazing_area_distribution      6\n",
       "heating_load                 586\n",
       "cooling_load                 636\n",
       "dtype: int64"
      ]
     },
     "execution_count": 18,
     "metadata": {},
     "output_type": "execute_result"
    }
   ],
   "source": [
    "df_class.nunique()"
   ]
  },
  {
   "cell_type": "markdown",
   "id": "24ac4586",
   "metadata": {},
   "source": [
    "We have more unique values for cooling_load than heating_load. This could mean that it requires more energy to cool a home than to heat."
   ]
  },
  {
   "cell_type": "markdown",
   "id": "3f27edf8",
   "metadata": {},
   "source": [
    "Let's plot the distribution of Heating Load"
   ]
  },
  {
   "cell_type": "code",
   "execution_count": 19,
   "id": "f8423bcc",
   "metadata": {},
   "outputs": [
    {
     "data": {
      "image/png": "[encoded data removed]",
      "text/plain": [
       "<Figure size 1200x400 with 2 Axes>"
      ]
     },
     "metadata": {},
     "output_type": "display_data"
    }
   ],
   "source": [
    "x = df_class.heating_load\n",
    "fig, axes = plt.subplots(ncols=2, figsize=(12, 4))\n",
    "for ax in axes:\n",
    "    sns.kdeplot(x, shade=False, color='crimson', ax=ax)\n",
    "    kdeline = ax.lines[0]\n",
    "    xs = kdeline.get_xdata()\n",
    "    ys = kdeline.get_ydata()\n",
    "    if ax == axes[0]:\n",
    "        mode_idx = np.argmax(ys)\n",
    "        middle = x.mean()\n",
    "        sdev = x.std()\n",
    "        left = middle - sdev\n",
    "        right = middle + sdev\n",
    "        ax.set_title('Showing mean and sdev')\n",
    "    else:\n",
    "        left, middle, right = np.percentile(x, [25, 50, 75])\n",
    "        ax.set_title('Showing median and quartiles')\n",
    "    ax.vlines(middle, 0, np.interp(middle, xs, ys), color='crimson', ls=':')\n",
    "    ax.vlines(xs[mode_idx], 0, ys[mode_idx], color='darkslategray', ls='--')\n",
    "    ax.fill_between(xs, 0, ys, facecolor='crimson', alpha=0.2)\n",
    "    ax.fill_between(xs,\n",
    "                    0,\n",
    "                    ys,\n",
    "                    where=(left <= xs) & (xs <= right),\n",
    "                    interpolate=True,\n",
    "                    facecolor='crimson',\n",
    "                    alpha=0.2)\n",
    "    # ax.set_ylim(ymin=0)\n",
    "plt.show()"
   ]
  },
  {
   "cell_type": "markdown",
   "id": "87e8f490",
   "metadata": {},
   "source": [
    " From above we see that the distribution of our outputs are similar and we expect that are correlated with each other."
   ]
  },
  {
   "cell_type": "markdown",
   "id": "63ce04b5",
   "metadata": {},
   "source": [
    "## Correlation"
   ]
  },
  {
   "cell_type": "markdown",
   "id": "cf9b883e",
   "metadata": {},
   "source": [
    "We check the correlation matrix"
   ]
  },
  {
   "cell_type": "code",
   "execution_count": 20,
   "id": "7c47131c",
   "metadata": {},
   "outputs": [
    {
     "data": {
      "image/png": "[encoded data removed]",
      "text/plain": [
       "<Figure size 1600x600 with 2 Axes>"
      ]
     },
     "metadata": {},
     "output_type": "display_data"
    }
   ],
   "source": [
    "plt.figure(figsize=(16, 6))\n",
    "# define the mask to set the values in the upper triangle to True\n",
    "mask = np.triu(np.ones_like(df_class.corr(), dtype=bool))\n",
    "heatmap = sns.heatmap(df_class.corr(),\n",
    "                      mask=mask,\n",
    "                      vmin=-1,\n",
    "                      vmax=1,\n",
    "                      annot=True,\n",
    "                      cmap='BrBG')\n",
    "heatmap.set_title('Triangle Correlation Heatmap',\n",
    "                  fontdict={'fontsize': 18},\n",
    "                  pad=16)\n",
    "plt.show()"
   ]
  },
  {
   "cell_type": "markdown",
   "id": "2dd10031",
   "metadata": {},
   "source": [
    "## Feature importance and selection"
   ]
  },
  {
   "cell_type": "code",
   "execution_count": 21,
   "id": "56bacc74",
   "metadata": {},
   "outputs": [
    {
     "data": {
      "text/plain": [
       "Text(0.5, 1.0, 'Correlation between features and target variable')"
      ]
     },
     "execution_count": 21,
     "metadata": {},
     "output_type": "execute_result"
    },
    {
     "data": {
      "image/png": "[encoded data removed]",
      "text/plain": [
       "<Figure size 1000x1000 with 1 Axes>"
      ]
     },
     "metadata": {},
     "output_type": "display_data"
    }
   ],
   "source": [
    "# We considered the correlation between numerical features and target variable\n",
    "\n",
    "corr_df = pd.DataFrame(df_class.corrwith(df_class[\"heating_load\"]),\n",
    "                       columns=[\"Corr\"])\n",
    "\n",
    "corr_df = corr_df.sort_values(by=['Corr'])\n",
    "\n",
    "# Set figure and axes\n",
    "fig, ax = plt.subplots()\n",
    "\n",
    "# Figure size\n",
    "fig.set_size_inches(10, 10)\n",
    "\n",
    "plt.barh(y=corr_df.index, width=corr_df.Corr)\n",
    "\n",
    "# Add title\n",
    "plt.title('Correlation between features and target variable')"
   ]
  },
  {
   "cell_type": "markdown",
   "id": "5d1f4b38",
   "metadata": {},
   "source": [
    "**Summary:**\n",
    "\n",
    "* Roof and surface area are negatively correlated with our outputs. \n",
    "    - Roof area is negatively correlated with relative compactness and positively with surface area.\n",
    "    - Relative compactness and surface area are inversely proportional. From the original paper \n",
    "    > we assume that the volume of the buildings is constant (there is an analytic formula linking the surface area to Relative compactness and volume)\n",
    "* Overall height is highly correlated with both heating and cooling load.  Relative compactness, wall area, glazing area and distribution are the other variables most associated with the outputs.\n",
    "    - Overall height is negatively correlated with surface and roof area, but positively with relative compactness.\n",
    "* Both outputs are correlated with each other.\n",
    "* Orientation doesn't seem to be correlated. "
   ]
  },
  {
   "cell_type": "markdown",
   "id": "5a9764fe",
   "metadata": {},
   "source": [
    "We are going to compare some features of the buildings with the total load"
   ]
  },
  {
   "cell_type": "code",
   "execution_count": 22,
   "id": "255a277e",
   "metadata": {},
   "outputs": [],
   "source": [
    "df_class['total_load'] = df_class['heating_load'] + df_class['cooling_load']"
   ]
  },
  {
   "cell_type": "markdown",
   "id": "7fe6ba39",
   "metadata": {},
   "source": [
    "**Roof area vs load**"
   ]
  },
  {
   "cell_type": "code",
   "execution_count": 23,
   "id": "58831b06",
   "metadata": {},
   "outputs": [
    {
     "data": {
      "text/plain": [
       "220.50    384\n",
       "147.00    192\n",
       "122.50    128\n",
       "110.25     64\n",
       "Name: roof_area, dtype: int64"
      ]
     },
     "execution_count": 23,
     "metadata": {},
     "output_type": "execute_result"
    }
   ],
   "source": [
    "df_class.roof_area.value_counts()[:3].sort_values(ascending=False)"
   ]
  },
  {
   "cell_type": "code",
   "execution_count": 24,
   "id": "618ee4de",
   "metadata": {},
   "outputs": [
    {
     "data": {
      "text/plain": [
       "count    768.000000\n",
       "mean     176.604167\n",
       "std       45.165950\n",
       "min      110.250000\n",
       "25%      140.875000\n",
       "50%      183.750000\n",
       "75%      220.500000\n",
       "max      220.500000\n",
       "Name: roof_area, dtype: float64"
      ]
     },
     "execution_count": 24,
     "metadata": {},
     "output_type": "execute_result"
    }
   ],
   "source": [
    "df_class.roof_area.describe()"
   ]
  },
  {
   "cell_type": "code",
   "execution_count": 25,
   "id": "4f88eebe",
   "metadata": {},
   "outputs": [
    {
     "data": {
      "text/plain": [
       "<AxesSubplot:xlabel='roof_area', ylabel='Probability'>"
      ]
     },
     "execution_count": 25,
     "metadata": {},
     "output_type": "execute_result"
    },
    {
     "data": {
      "image/png": "[encoded data removed]",
      "text/plain": [
       "<Figure size 640x480 with 1 Axes>"
      ]
     },
     "metadata": {},
     "output_type": "display_data"
    }
   ],
   "source": [
    "sns.set_theme(style='darkgrid')\n",
    "sns.histplot(df_class.roof_area,\n",
    "             stat=\"probability\",\n",
    "             color=\"darkslategray\",\n",
    "             alpha=0.65)"
   ]
  },
  {
   "cell_type": "code",
   "execution_count": 26,
   "id": "2f5ee686",
   "metadata": {},
   "outputs": [
    {
     "data": {
      "text/plain": [
       "<AxesSubplot:xlabel='roof_area', ylabel='total_load'>"
      ]
     },
     "execution_count": 26,
     "metadata": {},
     "output_type": "execute_result"
    },
    {
     "data": {
      "image/png": "[encoded data removed]",
      "text/plain": [
       "<Figure size 640x480 with 1 Axes>"
      ]
     },
     "metadata": {},
     "output_type": "display_data"
    }
   ],
   "source": [
    "sns.barplot(x='roof_area', y='total_load', data=df_class, palette='flare')"
   ]
  },
  {
   "cell_type": "code",
   "execution_count": 27,
   "id": "419691bc",
   "metadata": {},
   "outputs": [
    {
     "data": {
      "text/plain": [
       "<AxesSubplot:xlabel='roof_area', ylabel='total_load'>"
      ]
     },
     "execution_count": 27,
     "metadata": {},
     "output_type": "execute_result"
    },
    {
     "data": {
      "image/png": "[encoded data removed]",
      "text/plain": [
       "<Figure size 640x480 with 1 Axes>"
      ]
     },
     "metadata": {},
     "output_type": "display_data"
    }
   ],
   "source": [
    "sns.violinplot(x='roof_area', y='total_load', data=df_class, palette='flare')"
   ]
  },
  {
   "cell_type": "markdown",
   "id": "9daa18a9",
   "metadata": {},
   "source": [
    "We have 4 kinds of roof areas, where 50% of the buildings have roof area of 220.5, 25% have 147 while the rest 25% of the buildings have roof area below 140.\n",
    "Interestingly, as we saw above on the correlation matrix, those with roof area of 220.5 have lower heating and cooling load, thus tend to be more energy efficient."
   ]
  },
  {
   "cell_type": "markdown",
   "id": "cbbe4591",
   "metadata": {},
   "source": [
    "**Overall height vs load**"
   ]
  },
  {
   "cell_type": "code",
   "execution_count": 28,
   "id": "1a4794eb",
   "metadata": {},
   "outputs": [
    {
     "data": {
      "text/plain": [
       "count    768.00000\n",
       "mean       5.25000\n",
       "std        1.75114\n",
       "min        3.50000\n",
       "25%        3.50000\n",
       "50%        5.25000\n",
       "75%        7.00000\n",
       "max        7.00000\n",
       "Name: overall_height, dtype: float64"
      ]
     },
     "execution_count": 28,
     "metadata": {},
     "output_type": "execute_result"
    }
   ],
   "source": [
    "df_class.overall_height.describe()"
   ]
  },
  {
   "cell_type": "code",
   "execution_count": 29,
   "id": "39105ebd",
   "metadata": {},
   "outputs": [
    {
     "data": {
      "text/plain": [
       "<AxesSubplot:xlabel='overall_height', ylabel='total_load'>"
      ]
     },
     "execution_count": 29,
     "metadata": {},
     "output_type": "execute_result"
    },
    {
     "data": {
      "image/png": "[encoded data removed]",
      "text/plain": [
       "<Figure size 640x480 with 1 Axes>"
      ]
     },
     "metadata": {},
     "output_type": "display_data"
    }
   ],
   "source": [
    "sns.barplot(x='overall_height', y='total_load', data=df_class, palette='flare')"
   ]
  },
  {
   "cell_type": "markdown",
   "id": "2a54fb10",
   "metadata": {},
   "source": [
    "Higher buildings tend to be much more energy-intensive."
   ]
  },
  {
   "cell_type": "markdown",
   "id": "f36c29cc",
   "metadata": {},
   "source": [
    "**Wall area vs load**"
   ]
  },
  {
   "cell_type": "code",
   "execution_count": 30,
   "id": "9fc50e98",
   "metadata": {},
   "outputs": [
    {
     "data": {
      "text/plain": [
       "<AxesSubplot:xlabel='wall_area', ylabel='total_load'>"
      ]
     },
     "execution_count": 30,
     "metadata": {},
     "output_type": "execute_result"
    },
    {
     "data": {
      "image/png": "[encoded data removed]",
      "text/plain": [
       "<Figure size 640x480 with 1 Axes>"
      ]
     },
     "metadata": {},
     "output_type": "display_data"
    }
   ],
   "source": [
    "sns.barplot(x='wall_area', y='total_load', data=df_class, palette='flare')"
   ]
  },
  {
   "cell_type": "markdown",
   "id": "96f955ef",
   "metadata": {},
   "source": [
    "Higher load is expected to buildings with high wall area."
   ]
  },
  {
   "cell_type": "markdown",
   "id": "6fb606b1",
   "metadata": {},
   "source": [
    "**Relative Compactness vs load**"
   ]
  },
  {
   "cell_type": "code",
   "execution_count": 31,
   "id": "7b2d4251",
   "metadata": {},
   "outputs": [
    {
     "data": {
      "text/plain": [
       "count    768.000000\n",
       "mean       0.764167\n",
       "std        0.105777\n",
       "min        0.620000\n",
       "25%        0.682500\n",
       "50%        0.750000\n",
       "75%        0.830000\n",
       "max        0.980000\n",
       "Name: relative_compactness, dtype: float64"
      ]
     },
     "execution_count": 31,
     "metadata": {},
     "output_type": "execute_result"
    }
   ],
   "source": [
    "df_class.relative_compactness.describe()"
   ]
  },
  {
   "cell_type": "code",
   "execution_count": 32,
   "id": "81773790",
   "metadata": {},
   "outputs": [
    {
     "data": {
      "text/plain": [
       "<AxesSubplot:xlabel='relative_compactness', ylabel='total_load'>"
      ]
     },
     "execution_count": 32,
     "metadata": {},
     "output_type": "execute_result"
    },
    {
     "data": {
      "image/png": "[encoded data removed]",
      "text/plain": [
       "<Figure size 640x480 with 1 Axes>"
      ]
     },
     "metadata": {},
     "output_type": "display_data"
    }
   ],
   "source": [
    "sns.barplot(x='relative_compactness',\n",
    "            y='total_load',\n",
    "            data=df_class,\n",
    "            palette='flare')"
   ]
  },
  {
   "cell_type": "markdown",
   "id": "32fba732",
   "metadata": {},
   "source": [
    "We observe that when relative compactness is below 0.75 the heating and cooling load are low, but high when is above 0.75. This means that a less compact building is more energy efficient."
   ]
  },
  {
   "cell_type": "markdown",
   "id": "c5e2b972",
   "metadata": {},
   "source": [
    "# Training, splitting"
   ]
  },
  {
   "cell_type": "code",
   "execution_count": 33,
   "id": "bcf19008",
   "metadata": {},
   "outputs": [
    {
     "data": {
      "text/html": [
       "<div>\n",
       "<style scoped>\n",
       "    .dataframe tbody tr th:only-of-type {\n",
       "        vertical-align: middle;\n",
       "    }\n",
       "\n",
       "    .dataframe tbody tr th {\n",
       "        vertical-align: top;\n",
       "    }\n",
       "\n",
       "    .dataframe thead th {\n",
       "        text-align: right;\n",
       "    }\n",
       "</style>\n",
       "<table border=\"1\" class=\"dataframe\">\n",
       "  <thead>\n",
       "    <tr style=\"text-align: right;\">\n",
       "      <th></th>\n",
       "      <th>relative_compactness</th>\n",
       "      <th>surface_area</th>\n",
       "      <th>wall_area</th>\n",
       "      <th>roof_area</th>\n",
       "      <th>overall_height</th>\n",
       "      <th>orientation</th>\n",
       "      <th>glazing_area</th>\n",
       "      <th>glazing_area_distribution</th>\n",
       "      <th>heating_load</th>\n",
       "      <th>cooling_load</th>\n",
       "    </tr>\n",
       "  </thead>\n",
       "  <tbody>\n",
       "    <tr>\n",
       "      <th>0</th>\n",
       "      <td>0.98</td>\n",
       "      <td>514.5</td>\n",
       "      <td>294.0</td>\n",
       "      <td>110.25</td>\n",
       "      <td>7.0</td>\n",
       "      <td>2</td>\n",
       "      <td>0.0</td>\n",
       "      <td>0</td>\n",
       "      <td>15.55</td>\n",
       "      <td>21.33</td>\n",
       "    </tr>\n",
       "    <tr>\n",
       "      <th>1</th>\n",
       "      <td>0.98</td>\n",
       "      <td>514.5</td>\n",
       "      <td>294.0</td>\n",
       "      <td>110.25</td>\n",
       "      <td>7.0</td>\n",
       "      <td>3</td>\n",
       "      <td>0.0</td>\n",
       "      <td>0</td>\n",
       "      <td>15.55</td>\n",
       "      <td>21.33</td>\n",
       "    </tr>\n",
       "    <tr>\n",
       "      <th>2</th>\n",
       "      <td>0.98</td>\n",
       "      <td>514.5</td>\n",
       "      <td>294.0</td>\n",
       "      <td>110.25</td>\n",
       "      <td>7.0</td>\n",
       "      <td>4</td>\n",
       "      <td>0.0</td>\n",
       "      <td>0</td>\n",
       "      <td>15.55</td>\n",
       "      <td>21.33</td>\n",
       "    </tr>\n",
       "    <tr>\n",
       "      <th>3</th>\n",
       "      <td>0.98</td>\n",
       "      <td>514.5</td>\n",
       "      <td>294.0</td>\n",
       "      <td>110.25</td>\n",
       "      <td>7.0</td>\n",
       "      <td>5</td>\n",
       "      <td>0.0</td>\n",
       "      <td>0</td>\n",
       "      <td>15.55</td>\n",
       "      <td>21.33</td>\n",
       "    </tr>\n",
       "    <tr>\n",
       "      <th>4</th>\n",
       "      <td>0.90</td>\n",
       "      <td>563.5</td>\n",
       "      <td>318.5</td>\n",
       "      <td>122.50</td>\n",
       "      <td>7.0</td>\n",
       "      <td>2</td>\n",
       "      <td>0.0</td>\n",
       "      <td>0</td>\n",
       "      <td>20.84</td>\n",
       "      <td>28.28</td>\n",
       "    </tr>\n",
       "  </tbody>\n",
       "</table>\n",
       "</div>"
      ],
      "text/plain": [
       "   relative_compactness  surface_area  wall_area  roof_area  overall_height  \\\n",
       "0                  0.98         514.5      294.0     110.25             7.0   \n",
       "1                  0.98         514.5      294.0     110.25             7.0   \n",
       "2                  0.98         514.5      294.0     110.25             7.0   \n",
       "3                  0.98         514.5      294.0     110.25             7.0   \n",
       "4                  0.90         563.5      318.5     122.50             7.0   \n",
       "\n",
       "   orientation  glazing_area  glazing_area_distribution  heating_load  \\\n",
       "0            2           0.0                          0         15.55   \n",
       "1            3           0.0                          0         15.55   \n",
       "2            4           0.0                          0         15.55   \n",
       "3            5           0.0                          0         15.55   \n",
       "4            2           0.0                          0         20.84   \n",
       "\n",
       "   cooling_load  \n",
       "0         21.33  \n",
       "1         21.33  \n",
       "2         21.33  \n",
       "3         21.33  \n",
       "4         28.28  "
      ]
     },
     "execution_count": 33,
     "metadata": {},
     "output_type": "execute_result"
    }
   ],
   "source": [
    "# df_class = df_class.drop('heating_load', axis=1)\n",
    "# df_class = df_class.drop('cooling_load', axis=1)\n",
    "df_class = df_class.drop('total_load', axis=1)\n",
    "df_class.head()"
   ]
  },
  {
   "cell_type": "code",
   "execution_count": 34,
   "id": "03b5e2c6",
   "metadata": {},
   "outputs": [],
   "source": [
    "# df_class = df_class[['heating_load', 'cooling_load']].values"
   ]
  },
  {
   "cell_type": "code",
   "execution_count": 35,
   "id": "6a886040",
   "metadata": {},
   "outputs": [],
   "source": [
    "# df_class"
   ]
  },
  {
   "cell_type": "code",
   "execution_count": 36,
   "id": "7e84c4d8",
   "metadata": {},
   "outputs": [
    {
     "name": "stdout",
     "output_type": "stream",
     "text": [
      "768\n",
      "614\n",
      "460\n",
      "154\n",
      "154\n",
      "59.895833333333336\n",
      "20.052083333333332\n",
      "20.052083333333332\n"
     ]
    },
    {
     "data": {
      "text/plain": [
       "(None, None, None)"
      ]
     },
     "execution_count": 36,
     "metadata": {},
     "output_type": "execute_result"
    }
   ],
   "source": [
    "#@ SPLITTING THE DATASET FOR TRAINING AND TEST:\n",
    "from sklearn.model_selection import train_test_split\n",
    "\n",
    "df_full_train, df_test = train_test_split(df_class,\n",
    "                                          test_size=0.2,\n",
    "                                          random_state=1)\n",
    "df_train, df_val = train_test_split(df_full_train,\n",
    "                                    test_size=0.25,\n",
    "                                    random_state=SEED)\n",
    "\n",
    "print(len(df_class)), print(len(df_full_train)), print(len(df_train)), print(\n",
    "    len(df_val)), print(len(df_test))\n",
    "print(len(df_train) * 100 / len(df_class)), print(\n",
    "    len(df_val) * 100 / len(df_class)), print(\n",
    "        len(df_test) * 100 / len(df_class))"
   ]
  },
  {
   "cell_type": "code",
   "execution_count": 37,
   "id": "5f321199",
   "metadata": {},
   "outputs": [
    {
     "data": {
      "text/html": [
       "<div>\n",
       "<style scoped>\n",
       "    .dataframe tbody tr th:only-of-type {\n",
       "        vertical-align: middle;\n",
       "    }\n",
       "\n",
       "    .dataframe tbody tr th {\n",
       "        vertical-align: top;\n",
       "    }\n",
       "\n",
       "    .dataframe thead th {\n",
       "        text-align: right;\n",
       "    }\n",
       "</style>\n",
       "<table border=\"1\" class=\"dataframe\">\n",
       "  <thead>\n",
       "    <tr style=\"text-align: right;\">\n",
       "      <th></th>\n",
       "      <th>relative_compactness</th>\n",
       "      <th>surface_area</th>\n",
       "      <th>wall_area</th>\n",
       "      <th>roof_area</th>\n",
       "      <th>overall_height</th>\n",
       "      <th>orientation</th>\n",
       "      <th>glazing_area</th>\n",
       "      <th>glazing_area_distribution</th>\n",
       "      <th>heating_load</th>\n",
       "      <th>cooling_load</th>\n",
       "    </tr>\n",
       "  </thead>\n",
       "  <tbody>\n",
       "    <tr>\n",
       "      <th>650</th>\n",
       "      <td>0.74</td>\n",
       "      <td>686.0</td>\n",
       "      <td>245.0</td>\n",
       "      <td>220.50</td>\n",
       "      <td>3.5</td>\n",
       "      <td>4</td>\n",
       "      <td>0.40</td>\n",
       "      <td>3</td>\n",
       "      <td>14.10</td>\n",
       "      <td>16.57</td>\n",
       "    </tr>\n",
       "    <tr>\n",
       "      <th>458</th>\n",
       "      <td>0.74</td>\n",
       "      <td>686.0</td>\n",
       "      <td>245.0</td>\n",
       "      <td>220.50</td>\n",
       "      <td>3.5</td>\n",
       "      <td>4</td>\n",
       "      <td>0.25</td>\n",
       "      <td>4</td>\n",
       "      <td>12.18</td>\n",
       "      <td>15.03</td>\n",
       "    </tr>\n",
       "    <tr>\n",
       "      <th>96</th>\n",
       "      <td>0.98</td>\n",
       "      <td>514.5</td>\n",
       "      <td>294.0</td>\n",
       "      <td>110.25</td>\n",
       "      <td>7.0</td>\n",
       "      <td>2</td>\n",
       "      <td>0.10</td>\n",
       "      <td>2</td>\n",
       "      <td>24.29</td>\n",
       "      <td>25.95</td>\n",
       "    </tr>\n",
       "    <tr>\n",
       "      <th>402</th>\n",
       "      <td>0.79</td>\n",
       "      <td>637.0</td>\n",
       "      <td>343.0</td>\n",
       "      <td>147.00</td>\n",
       "      <td>7.0</td>\n",
       "      <td>4</td>\n",
       "      <td>0.25</td>\n",
       "      <td>3</td>\n",
       "      <td>39.81</td>\n",
       "      <td>37.76</td>\n",
       "    </tr>\n",
       "    <tr>\n",
       "      <th>4</th>\n",
       "      <td>0.90</td>\n",
       "      <td>563.5</td>\n",
       "      <td>318.5</td>\n",
       "      <td>122.50</td>\n",
       "      <td>7.0</td>\n",
       "      <td>2</td>\n",
       "      <td>0.00</td>\n",
       "      <td>0</td>\n",
       "      <td>20.84</td>\n",
       "      <td>28.28</td>\n",
       "    </tr>\n",
       "  </tbody>\n",
       "</table>\n",
       "</div>"
      ],
      "text/plain": [
       "     relative_compactness  surface_area  wall_area  roof_area  overall_height  \\\n",
       "650                  0.74         686.0      245.0     220.50             3.5   \n",
       "458                  0.74         686.0      245.0     220.50             3.5   \n",
       "96                   0.98         514.5      294.0     110.25             7.0   \n",
       "402                  0.79         637.0      343.0     147.00             7.0   \n",
       "4                    0.90         563.5      318.5     122.50             7.0   \n",
       "\n",
       "     orientation  glazing_area  glazing_area_distribution  heating_load  \\\n",
       "650            4          0.40                          3         14.10   \n",
       "458            4          0.25                          4         12.18   \n",
       "96             2          0.10                          2         24.29   \n",
       "402            4          0.25                          3         39.81   \n",
       "4              2          0.00                          0         20.84   \n",
       "\n",
       "     cooling_load  \n",
       "650         16.57  \n",
       "458         15.03  \n",
       "96          25.95  \n",
       "402         37.76  \n",
       "4           28.28  "
      ]
     },
     "execution_count": 37,
     "metadata": {},
     "output_type": "execute_result"
    }
   ],
   "source": [
    "df_train.head()"
   ]
  },
  {
   "cell_type": "code",
   "execution_count": 38,
   "id": "16b24893",
   "metadata": {},
   "outputs": [],
   "source": [
    "df_train = df_train.reset_index(drop=True)\n",
    "df_val = df_val.reset_index(drop=True)\n",
    "df_test = df_test.reset_index(drop=True)"
   ]
  },
  {
   "cell_type": "code",
   "execution_count": 39,
   "id": "bdc287fd",
   "metadata": {},
   "outputs": [],
   "source": [
    "# del df_train[['heating_load', 'cooling_load']]"
   ]
  },
  {
   "cell_type": "code",
   "execution_count": 40,
   "id": "53a64e6b",
   "metadata": {},
   "outputs": [
    {
     "data": {
      "text/html": [
       "<div>\n",
       "<style scoped>\n",
       "    .dataframe tbody tr th:only-of-type {\n",
       "        vertical-align: middle;\n",
       "    }\n",
       "\n",
       "    .dataframe tbody tr th {\n",
       "        vertical-align: top;\n",
       "    }\n",
       "\n",
       "    .dataframe thead th {\n",
       "        text-align: right;\n",
       "    }\n",
       "</style>\n",
       "<table border=\"1\" class=\"dataframe\">\n",
       "  <thead>\n",
       "    <tr style=\"text-align: right;\">\n",
       "      <th></th>\n",
       "      <th>relative_compactness</th>\n",
       "      <th>surface_area</th>\n",
       "      <th>wall_area</th>\n",
       "      <th>roof_area</th>\n",
       "      <th>overall_height</th>\n",
       "      <th>orientation</th>\n",
       "      <th>glazing_area</th>\n",
       "      <th>glazing_area_distribution</th>\n",
       "      <th>heating_load</th>\n",
       "      <th>cooling_load</th>\n",
       "    </tr>\n",
       "  </thead>\n",
       "  <tbody>\n",
       "    <tr>\n",
       "      <th>0</th>\n",
       "      <td>0.74</td>\n",
       "      <td>686.0</td>\n",
       "      <td>245.0</td>\n",
       "      <td>220.50</td>\n",
       "      <td>3.5</td>\n",
       "      <td>4</td>\n",
       "      <td>0.40</td>\n",
       "      <td>3</td>\n",
       "      <td>14.10</td>\n",
       "      <td>16.57</td>\n",
       "    </tr>\n",
       "    <tr>\n",
       "      <th>1</th>\n",
       "      <td>0.74</td>\n",
       "      <td>686.0</td>\n",
       "      <td>245.0</td>\n",
       "      <td>220.50</td>\n",
       "      <td>3.5</td>\n",
       "      <td>4</td>\n",
       "      <td>0.25</td>\n",
       "      <td>4</td>\n",
       "      <td>12.18</td>\n",
       "      <td>15.03</td>\n",
       "    </tr>\n",
       "    <tr>\n",
       "      <th>2</th>\n",
       "      <td>0.98</td>\n",
       "      <td>514.5</td>\n",
       "      <td>294.0</td>\n",
       "      <td>110.25</td>\n",
       "      <td>7.0</td>\n",
       "      <td>2</td>\n",
       "      <td>0.10</td>\n",
       "      <td>2</td>\n",
       "      <td>24.29</td>\n",
       "      <td>25.95</td>\n",
       "    </tr>\n",
       "    <tr>\n",
       "      <th>3</th>\n",
       "      <td>0.79</td>\n",
       "      <td>637.0</td>\n",
       "      <td>343.0</td>\n",
       "      <td>147.00</td>\n",
       "      <td>7.0</td>\n",
       "      <td>4</td>\n",
       "      <td>0.25</td>\n",
       "      <td>3</td>\n",
       "      <td>39.81</td>\n",
       "      <td>37.76</td>\n",
       "    </tr>\n",
       "    <tr>\n",
       "      <th>4</th>\n",
       "      <td>0.90</td>\n",
       "      <td>563.5</td>\n",
       "      <td>318.5</td>\n",
       "      <td>122.50</td>\n",
       "      <td>7.0</td>\n",
       "      <td>2</td>\n",
       "      <td>0.00</td>\n",
       "      <td>0</td>\n",
       "      <td>20.84</td>\n",
       "      <td>28.28</td>\n",
       "    </tr>\n",
       "  </tbody>\n",
       "</table>\n",
       "</div>"
      ],
      "text/plain": [
       "   relative_compactness  surface_area  wall_area  roof_area  overall_height  \\\n",
       "0                  0.74         686.0      245.0     220.50             3.5   \n",
       "1                  0.74         686.0      245.0     220.50             3.5   \n",
       "2                  0.98         514.5      294.0     110.25             7.0   \n",
       "3                  0.79         637.0      343.0     147.00             7.0   \n",
       "4                  0.90         563.5      318.5     122.50             7.0   \n",
       "\n",
       "   orientation  glazing_area  glazing_area_distribution  heating_load  \\\n",
       "0            4          0.40                          3         14.10   \n",
       "1            4          0.25                          4         12.18   \n",
       "2            2          0.10                          2         24.29   \n",
       "3            4          0.25                          3         39.81   \n",
       "4            2          0.00                          0         20.84   \n",
       "\n",
       "   cooling_load  \n",
       "0         16.57  \n",
       "1         15.03  \n",
       "2         25.95  \n",
       "3         37.76  \n",
       "4         28.28  "
      ]
     },
     "execution_count": 40,
     "metadata": {},
     "output_type": "execute_result"
    }
   ],
   "source": [
    "df_train.head()"
   ]
  },
  {
   "cell_type": "code",
   "execution_count": 41,
   "id": "1043cac8",
   "metadata": {},
   "outputs": [],
   "source": [
    "# y_train = df_train[\"total_load\"].values\n",
    "# y_val = df_val[\"total_load\"].values\n",
    "# y_test = df_test[\"total_load\"].values\n",
    "y_train = df_train[['heating_load', 'cooling_load']].values\n",
    "y_val = df_val[['heating_load', 'cooling_load']].values\n",
    "y_test = df_test[['heating_load', 'cooling_load']].values"
   ]
  },
  {
   "cell_type": "code",
   "execution_count": 42,
   "id": "2f73cf8b",
   "metadata": {},
   "outputs": [
    {
     "data": {
      "text/plain": [
       "array([12.74, 29.68, 36.57, 38.57, 34.72, 16.99, 15.19, 28.56, 14.51,\n",
       "       25.27, 14.96, 33.27, 24.96, 15.09, 12.95, 38.98, 28.75, 15.3 ,\n",
       "       13.95, 32.4 , 25.17, 10.07, 23.87, 18.46, 14.61, 34.24, 16.76,\n",
       "       13.  , 41.26, 12.76, 32.71, 37.24, 11.33, 14.28, 26.33, 41.73,\n",
       "       17.69, 11.69, 39.83, 14.5 , 36.43, 11.34,  8.5 , 15.36, 11.18,\n",
       "       15.42, 19.5 , 25.17, 36.57, 39.04, 11.13, 32.4 , 10.7 , 15.08,\n",
       "       28.64, 29.67, 35.96, 28.66, 12.43, 15.23, 12.8 , 23.53, 22.79,\n",
       "       28.01, 28.52, 39.31, 25.98, 14.92, 32.67, 12.93, 26.28, 15.16,\n",
       "       14.44, 32.38, 14.37, 23.93, 29.43, 32.12, 14.6 , 24.32, 11.68,\n",
       "       29.08, 14.51, 29.91, 14.39, 39.97, 40.4 , 36.86, 13.91, 12.78,\n",
       "       28.4 , 24.63, 11.6 , 34.29, 14.62, 31.69, 11.43, 25.38, 10.42,\n",
       "       29.5 , 32.46, 14.71, 24.24, 12.02, 13.86, 12.28, 24.03, 28.07,\n",
       "       23.86, 36.95, 38.89, 15.55, 25.37, 11.69, 36.06, 10.78, 37.12,\n",
       "       32.21, 32.09, 14.21, 26.48, 28.6 , 14.7 , 26.91, 39.04, 14.62,\n",
       "       10.37, 29.47, 10.72, 16.86, 42.5 , 11.14, 31.29, 41.3 ,  6.81,\n",
       "       32.49, 24.04, 10.54, 40.  , 14.52, 15.18, 23.75, 16.44, 17.02,\n",
       "       15.55, 29.6 , 10.36, 36.91, 36.9 , 14.42, 12.57, 26.89, 28.93,\n",
       "       42.08])"
      ]
     },
     "execution_count": 42,
     "metadata": {},
     "output_type": "execute_result"
    }
   ],
   "source": [
    "y_test[:, 0]"
   ]
  },
  {
   "cell_type": "code",
   "execution_count": 43,
   "id": "487ca00e",
   "metadata": {},
   "outputs": [],
   "source": [
    "# del df_train[\"total_load\"]\n",
    "# del df_val[\"total_load\"]\n",
    "# del df_test[\"total_load\"]\n",
    "del df_train['heating_load']\n",
    "del df_train['cooling_load']\n",
    "del df_val['heating_load']\n",
    "del df_val['cooling_load']\n",
    "del df_test['heating_load']\n",
    "del df_test['cooling_load']"
   ]
  },
  {
   "cell_type": "code",
   "execution_count": 44,
   "id": "c78f0b4d",
   "metadata": {},
   "outputs": [
    {
     "data": {
      "text/html": [
       "<div>\n",
       "<style scoped>\n",
       "    .dataframe tbody tr th:only-of-type {\n",
       "        vertical-align: middle;\n",
       "    }\n",
       "\n",
       "    .dataframe tbody tr th {\n",
       "        vertical-align: top;\n",
       "    }\n",
       "\n",
       "    .dataframe thead th {\n",
       "        text-align: right;\n",
       "    }\n",
       "</style>\n",
       "<table border=\"1\" class=\"dataframe\">\n",
       "  <thead>\n",
       "    <tr style=\"text-align: right;\">\n",
       "      <th></th>\n",
       "      <th>relative_compactness</th>\n",
       "      <th>surface_area</th>\n",
       "      <th>wall_area</th>\n",
       "      <th>roof_area</th>\n",
       "      <th>overall_height</th>\n",
       "      <th>orientation</th>\n",
       "      <th>glazing_area</th>\n",
       "      <th>glazing_area_distribution</th>\n",
       "    </tr>\n",
       "  </thead>\n",
       "  <tbody>\n",
       "    <tr>\n",
       "      <th>0</th>\n",
       "      <td>0.74</td>\n",
       "      <td>686.0</td>\n",
       "      <td>245.0</td>\n",
       "      <td>220.50</td>\n",
       "      <td>3.5</td>\n",
       "      <td>4</td>\n",
       "      <td>0.40</td>\n",
       "      <td>3</td>\n",
       "    </tr>\n",
       "    <tr>\n",
       "      <th>1</th>\n",
       "      <td>0.74</td>\n",
       "      <td>686.0</td>\n",
       "      <td>245.0</td>\n",
       "      <td>220.50</td>\n",
       "      <td>3.5</td>\n",
       "      <td>4</td>\n",
       "      <td>0.25</td>\n",
       "      <td>4</td>\n",
       "    </tr>\n",
       "    <tr>\n",
       "      <th>2</th>\n",
       "      <td>0.98</td>\n",
       "      <td>514.5</td>\n",
       "      <td>294.0</td>\n",
       "      <td>110.25</td>\n",
       "      <td>7.0</td>\n",
       "      <td>2</td>\n",
       "      <td>0.10</td>\n",
       "      <td>2</td>\n",
       "    </tr>\n",
       "    <tr>\n",
       "      <th>3</th>\n",
       "      <td>0.79</td>\n",
       "      <td>637.0</td>\n",
       "      <td>343.0</td>\n",
       "      <td>147.00</td>\n",
       "      <td>7.0</td>\n",
       "      <td>4</td>\n",
       "      <td>0.25</td>\n",
       "      <td>3</td>\n",
       "    </tr>\n",
       "    <tr>\n",
       "      <th>4</th>\n",
       "      <td>0.90</td>\n",
       "      <td>563.5</td>\n",
       "      <td>318.5</td>\n",
       "      <td>122.50</td>\n",
       "      <td>7.0</td>\n",
       "      <td>2</td>\n",
       "      <td>0.00</td>\n",
       "      <td>0</td>\n",
       "    </tr>\n",
       "  </tbody>\n",
       "</table>\n",
       "</div>"
      ],
      "text/plain": [
       "   relative_compactness  surface_area  wall_area  roof_area  overall_height  \\\n",
       "0                  0.74         686.0      245.0     220.50             3.5   \n",
       "1                  0.74         686.0      245.0     220.50             3.5   \n",
       "2                  0.98         514.5      294.0     110.25             7.0   \n",
       "3                  0.79         637.0      343.0     147.00             7.0   \n",
       "4                  0.90         563.5      318.5     122.50             7.0   \n",
       "\n",
       "   orientation  glazing_area  glazing_area_distribution  \n",
       "0            4          0.40                          3  \n",
       "1            4          0.25                          4  \n",
       "2            2          0.10                          2  \n",
       "3            4          0.25                          3  \n",
       "4            2          0.00                          0  "
      ]
     },
     "execution_count": 44,
     "metadata": {},
     "output_type": "execute_result"
    }
   ],
   "source": [
    "df_train.head()"
   ]
  },
  {
   "cell_type": "code",
   "execution_count": 45,
   "id": "0f13e4fd",
   "metadata": {},
   "outputs": [],
   "source": [
    "#@ IMPLEMENTATION OF DICTVECTORIZER:\n",
    "numerical = [\n",
    "    'relative_compactness', 'surface_area', 'wall_area', 'roof_area',\n",
    "    'overall_height', 'orientation', 'glazing_area',\n",
    "    'glazing_area_distribution'\n",
    "]\n",
    "\n",
    "train_dict = df_train[numerical].to_dict(orient='records')\n",
    "\n",
    "dv = DictVectorizer(sparse=False)\n",
    "X_train = dv.fit_transform(train_dict)\n",
    "\n",
    "val_dict = df_val[numerical].to_dict(orient='records')\n",
    "X_val = dv.transform(val_dict)"
   ]
  },
  {
   "cell_type": "markdown",
   "id": "d3498250",
   "metadata": {},
   "source": [
    "# Models"
   ]
  },
  {
   "cell_type": "markdown",
   "id": "1d92dab3",
   "metadata": {},
   "source": [
    "## Linear Regression"
   ]
  },
  {
   "cell_type": "code",
   "execution_count": 46,
   "id": "06748a49",
   "metadata": {},
   "outputs": [
    {
     "data": {
      "text/html": [
       "<style>#sk-container-id-1 {color: black;background-color: white;}#sk-container-id-1 pre{padding: 0;}#sk-container-id-1 div.sk-toggleable {background-color: white;}#sk-container-id-1 label.sk-toggleable__label {cursor: pointer;display: block;width: 100%;margin-bottom: 0;padding: 0.3em;box-sizing: border-box;text-align: center;}#sk-container-id-1 label.sk-toggleable__label-arrow:before {content: \"▸\";float: left;margin-right: 0.25em;color: #696969;}#sk-container-id-1 label.sk-toggleable__label-arrow:hover:before {color: black;}#sk-container-id-1 div.sk-estimator:hover label.sk-toggleable__label-arrow:before {color: black;}#sk-container-id-1 div.sk-toggleable__content {max-height: 0;max-width: 0;overflow: hidden;text-align: left;background-color: #f0f8ff;}#sk-container-id-1 div.sk-toggleable__content pre {margin: 0.2em;color: black;border-radius: 0.25em;background-color: #f0f8ff;}#sk-container-id-1 input.sk-toggleable__control:checked~div.sk-toggleable__content {max-height: 200px;max-width: 100%;overflow: auto;}#sk-container-id-1 input.sk-toggleable__control:checked~label.sk-toggleable__label-arrow:before {content: \"▾\";}#sk-container-id-1 div.sk-estimator input.sk-toggleable__control:checked~label.sk-toggleable__label {background-color: #d4ebff;}#sk-container-id-1 div.sk-label input.sk-toggleable__control:checked~label.sk-toggleable__label {background-color: #d4ebff;}#sk-container-id-1 input.sk-hidden--visually {border: 0;clip: rect(1px 1px 1px 1px);clip: rect(1px, 1px, 1px, 1px);height: 1px;margin: -1px;overflow: hidden;padding: 0;position: absolute;width: 1px;}#sk-container-id-1 div.sk-estimator {font-family: monospace;background-color: #f0f8ff;border: 1px dotted black;border-radius: 0.25em;box-sizing: border-box;margin-bottom: 0.5em;}#sk-container-id-1 div.sk-estimator:hover {background-color: #d4ebff;}#sk-container-id-1 div.sk-parallel-item::after {content: \"\";width: 100%;border-bottom: 1px solid gray;flex-grow: 1;}#sk-container-id-1 div.sk-label:hover label.sk-toggleable__label {background-color: #d4ebff;}#sk-container-id-1 div.sk-serial::before {content: \"\";position: absolute;border-left: 1px solid gray;box-sizing: border-box;top: 0;bottom: 0;left: 50%;z-index: 0;}#sk-container-id-1 div.sk-serial {display: flex;flex-direction: column;align-items: center;background-color: white;padding-right: 0.2em;padding-left: 0.2em;position: relative;}#sk-container-id-1 div.sk-item {position: relative;z-index: 1;}#sk-container-id-1 div.sk-parallel {display: flex;align-items: stretch;justify-content: center;background-color: white;position: relative;}#sk-container-id-1 div.sk-item::before, #sk-container-id-1 div.sk-parallel-item::before {content: \"\";position: absolute;border-left: 1px solid gray;box-sizing: border-box;top: 0;bottom: 0;left: 50%;z-index: -1;}#sk-container-id-1 div.sk-parallel-item {display: flex;flex-direction: column;z-index: 1;position: relative;background-color: white;}#sk-container-id-1 div.sk-parallel-item:first-child::after {align-self: flex-end;width: 50%;}#sk-container-id-1 div.sk-parallel-item:last-child::after {align-self: flex-start;width: 50%;}#sk-container-id-1 div.sk-parallel-item:only-child::after {width: 0;}#sk-container-id-1 div.sk-dashed-wrapped {border: 1px dashed gray;margin: 0 0.4em 0.5em 0.4em;box-sizing: border-box;padding-bottom: 0.4em;background-color: white;}#sk-container-id-1 div.sk-label label {font-family: monospace;font-weight: bold;display: inline-block;line-height: 1.2em;}#sk-container-id-1 div.sk-label-container {text-align: center;}#sk-container-id-1 div.sk-container {/* jupyter's `normalize.less` sets `[hidden] { display: none; }` but bootstrap.min.css set `[hidden] { display: none !important; }` so we also need the `!important` here to be able to override the default hidden behavior on the sphinx rendered scikit-learn.org. See: https://github.com/scikit-learn/scikit-learn/issues/21755 */display: inline-block !important;position: relative;}#sk-container-id-1 div.sk-text-repr-fallback {display: none;}</style><div id=\"sk-container-id-1\" class=\"sk-top-container\"><div class=\"sk-text-repr-fallback\"><pre>LinearRegression()</pre><b>In a Jupyter environment, please rerun this cell to show the HTML representation or trust the notebook. <br />On GitHub, the HTML representation is unable to render, please try loading this page with nbviewer.org.</b></div><div class=\"sk-container\" hidden><div class=\"sk-item\"><div class=\"sk-estimator sk-toggleable\"><input class=\"sk-toggleable__control sk-hidden--visually\" id=\"sk-estimator-id-1\" type=\"checkbox\" checked><label for=\"sk-estimator-id-1\" class=\"sk-toggleable__label sk-toggleable__label-arrow\">LinearRegression</label><div class=\"sk-toggleable__content\"><pre>LinearRegression()</pre></div></div></div></div></div>"
      ],
      "text/plain": [
       "LinearRegression()"
      ]
     },
     "execution_count": 46,
     "metadata": {},
     "output_type": "execute_result"
    }
   ],
   "source": [
    "model = LinearRegression()\n",
    "model.fit(X_train, y_train)"
   ]
  },
  {
   "cell_type": "code",
   "execution_count": 47,
   "id": "bf7972b3",
   "metadata": {},
   "outputs": [
    {
     "name": "stdout",
     "output_type": "stream",
     "text": [
      "r2 score validation : 0.9042\n",
      "RMSE validation : 2.9931\n"
     ]
    }
   ],
   "source": [
    "y_pred = model.predict(X_val)\n",
    "\n",
    "r2_score_val = r2_score(y_val, y_pred)\n",
    "print(f'r2 score validation : {r2_score_val:.4f}')\n",
    "# adj_r2_score_val = 1 - (1 - r2_score(y_val, y_pred)) * (len(y_val) - 1) / (\n",
    "#     len(y_val) - X_val.shape[1] - 1)\n",
    "# print(f'adjusted r2 score validation : {adj_r2_score_val:.4f}')\n",
    "# mae_val = metrics.mean_absolute_error(y_val, y_pred)\n",
    "# print(f'MAE validation : {mae_val:.4f}')\n",
    "# mse_val = mean_squared_error(y_val, y_pred)\n",
    "# print(f'MSE validation : {mse_val:.4f}')\n",
    "rmse_val = np.sqrt(mean_squared_error(y_val, y_pred))\n",
    "print(f'RMSE validation : {rmse_val:.4f}')"
   ]
  },
  {
   "cell_type": "markdown",
   "id": "65b5e02c",
   "metadata": {},
   "source": [
    "## Ridge"
   ]
  },
  {
   "cell_type": "code",
   "execution_count": 48,
   "id": "08a8526f",
   "metadata": {},
   "outputs": [],
   "source": [
    "alpha_values = [0, 0.01, 0.1, 0.5, 1, 10]"
   ]
  },
  {
   "cell_type": "code",
   "execution_count": 49,
   "id": "b7ee8a7a",
   "metadata": {},
   "outputs": [
    {
     "name": "stdout",
     "output_type": "stream",
     "text": [
      "alpha : 0 - RMSE: 2.98982, r2 score: 0.90440\n",
      "alpha : 0.01 - RMSE: 2.99301, r2 score: 0.90418\n",
      "alpha : 0.1 - RMSE: 3.03412, r2 score: 0.90151\n",
      "alpha : 0.5 - RMSE: 3.07500, r2 score: 0.89883\n",
      "alpha : 1 - RMSE: 3.09537, r2 score: 0.89749\n",
      "alpha : 10 - RMSE: 3.41410, r2 score: 0.87547\n"
     ]
    }
   ],
   "source": [
    "for alpha in alpha_values:\n",
    "    RG = Ridge(alpha=alpha, random_state=SEED)\n",
    "    ridge = RG.fit(X_train, y_train)\n",
    "\n",
    "    y_pred = ridge.predict(X_val)\n",
    "\n",
    "    r2_score_val = r2_score(y_val, y_pred)\n",
    "    #     adj_r2_score_val = 1 - (1 - r2_score(y_val, y_pred)) * (len(y_val) - 1) / (\n",
    "    #     len(y_val) - X_val.shape[1] - 1)\n",
    "    #     print(f'adjusted r2 score validation : {adj_r2_score_val:.4f}')\n",
    "    #     mae_val = metrics.mean_absolute_error(y_val, y_pred)\n",
    "    #     print(f'MAE validation : {mae_val:.4f}')\n",
    "    #     mse_val = mean_squared_error(y_val, y_pred)\n",
    "    rmse_val = np.sqrt(mean_squared_error(y_val, y_pred))\n",
    "    print(\n",
    "        f\"alpha : {alpha} - RMSE: {rmse_val:.5f}, r2 score: {r2_score_val:.5f}\"\n",
    "    )"
   ]
  },
  {
   "cell_type": "markdown",
   "id": "30f313ed",
   "metadata": {},
   "source": [
    "We select alpha=0.01 as the best model\n",
    "\n",
    "* The regularization strength is determined by alpha in this case.\n",
    "* If it is zero, it behaves similarly to LinearRegression.\n",
    "* Smoothness improves as alpha increases (reduces complexity by decreasing variance)\n",
    "* A decrease in alpha raises the magnitude of the coefficients (increases complexity by decreasing bias)"
   ]
  },
  {
   "cell_type": "markdown",
   "id": "c8381daa",
   "metadata": {},
   "source": [
    "## Decision Trees"
   ]
  },
  {
   "cell_type": "markdown",
   "id": "1453131b",
   "metadata": {},
   "source": [
    "### Base model"
   ]
  },
  {
   "cell_type": "code",
   "execution_count": 50,
   "id": "4eb4ff89",
   "metadata": {},
   "outputs": [
    {
     "data": {
      "text/html": [
       "<style>#sk-container-id-2 {color: black;background-color: white;}#sk-container-id-2 pre{padding: 0;}#sk-container-id-2 div.sk-toggleable {background-color: white;}#sk-container-id-2 label.sk-toggleable__label {cursor: pointer;display: block;width: 100%;margin-bottom: 0;padding: 0.3em;box-sizing: border-box;text-align: center;}#sk-container-id-2 label.sk-toggleable__label-arrow:before {content: \"▸\";float: left;margin-right: 0.25em;color: #696969;}#sk-container-id-2 label.sk-toggleable__label-arrow:hover:before {color: black;}#sk-container-id-2 div.sk-estimator:hover label.sk-toggleable__label-arrow:before {color: black;}#sk-container-id-2 div.sk-toggleable__content {max-height: 0;max-width: 0;overflow: hidden;text-align: left;background-color: #f0f8ff;}#sk-container-id-2 div.sk-toggleable__content pre {margin: 0.2em;color: black;border-radius: 0.25em;background-color: #f0f8ff;}#sk-container-id-2 input.sk-toggleable__control:checked~div.sk-toggleable__content {max-height: 200px;max-width: 100%;overflow: auto;}#sk-container-id-2 input.sk-toggleable__control:checked~label.sk-toggleable__label-arrow:before {content: \"▾\";}#sk-container-id-2 div.sk-estimator input.sk-toggleable__control:checked~label.sk-toggleable__label {background-color: #d4ebff;}#sk-container-id-2 div.sk-label input.sk-toggleable__control:checked~label.sk-toggleable__label {background-color: #d4ebff;}#sk-container-id-2 input.sk-hidden--visually {border: 0;clip: rect(1px 1px 1px 1px);clip: rect(1px, 1px, 1px, 1px);height: 1px;margin: -1px;overflow: hidden;padding: 0;position: absolute;width: 1px;}#sk-container-id-2 div.sk-estimator {font-family: monospace;background-color: #f0f8ff;border: 1px dotted black;border-radius: 0.25em;box-sizing: border-box;margin-bottom: 0.5em;}#sk-container-id-2 div.sk-estimator:hover {background-color: #d4ebff;}#sk-container-id-2 div.sk-parallel-item::after {content: \"\";width: 100%;border-bottom: 1px solid gray;flex-grow: 1;}#sk-container-id-2 div.sk-label:hover label.sk-toggleable__label {background-color: #d4ebff;}#sk-container-id-2 div.sk-serial::before {content: \"\";position: absolute;border-left: 1px solid gray;box-sizing: border-box;top: 0;bottom: 0;left: 50%;z-index: 0;}#sk-container-id-2 div.sk-serial {display: flex;flex-direction: column;align-items: center;background-color: white;padding-right: 0.2em;padding-left: 0.2em;position: relative;}#sk-container-id-2 div.sk-item {position: relative;z-index: 1;}#sk-container-id-2 div.sk-parallel {display: flex;align-items: stretch;justify-content: center;background-color: white;position: relative;}#sk-container-id-2 div.sk-item::before, #sk-container-id-2 div.sk-parallel-item::before {content: \"\";position: absolute;border-left: 1px solid gray;box-sizing: border-box;top: 0;bottom: 0;left: 50%;z-index: -1;}#sk-container-id-2 div.sk-parallel-item {display: flex;flex-direction: column;z-index: 1;position: relative;background-color: white;}#sk-container-id-2 div.sk-parallel-item:first-child::after {align-self: flex-end;width: 50%;}#sk-container-id-2 div.sk-parallel-item:last-child::after {align-self: flex-start;width: 50%;}#sk-container-id-2 div.sk-parallel-item:only-child::after {width: 0;}#sk-container-id-2 div.sk-dashed-wrapped {border: 1px dashed gray;margin: 0 0.4em 0.5em 0.4em;box-sizing: border-box;padding-bottom: 0.4em;background-color: white;}#sk-container-id-2 div.sk-label label {font-family: monospace;font-weight: bold;display: inline-block;line-height: 1.2em;}#sk-container-id-2 div.sk-label-container {text-align: center;}#sk-container-id-2 div.sk-container {/* jupyter's `normalize.less` sets `[hidden] { display: none; }` but bootstrap.min.css set `[hidden] { display: none !important; }` so we also need the `!important` here to be able to override the default hidden behavior on the sphinx rendered scikit-learn.org. See: https://github.com/scikit-learn/scikit-learn/issues/21755 */display: inline-block !important;position: relative;}#sk-container-id-2 div.sk-text-repr-fallback {display: none;}</style><div id=\"sk-container-id-2\" class=\"sk-top-container\"><div class=\"sk-text-repr-fallback\"><pre>DecisionTreeRegressor(max_depth=1)</pre><b>In a Jupyter environment, please rerun this cell to show the HTML representation or trust the notebook. <br />On GitHub, the HTML representation is unable to render, please try loading this page with nbviewer.org.</b></div><div class=\"sk-container\" hidden><div class=\"sk-item\"><div class=\"sk-estimator sk-toggleable\"><input class=\"sk-toggleable__control sk-hidden--visually\" id=\"sk-estimator-id-2\" type=\"checkbox\" checked><label for=\"sk-estimator-id-2\" class=\"sk-toggleable__label sk-toggleable__label-arrow\">DecisionTreeRegressor</label><div class=\"sk-toggleable__content\"><pre>DecisionTreeRegressor(max_depth=1)</pre></div></div></div></div></div>"
      ],
      "text/plain": [
       "DecisionTreeRegressor(max_depth=1)"
      ]
     },
     "execution_count": 50,
     "metadata": {},
     "output_type": "execute_result"
    }
   ],
   "source": [
    "#@ TRAINING THE REGRESSION MODEL:\n",
    "# criterion=\"mse\",max_depth=6,min_samples_leaf=1,min_samples_split=4\n",
    "dt = DecisionTreeRegressor(max_depth=1)\n",
    "dt.fit(X_train, y_train)"
   ]
  },
  {
   "cell_type": "code",
   "execution_count": 51,
   "id": "4474af59",
   "metadata": {},
   "outputs": [
    {
     "name": "stdout",
     "output_type": "stream",
     "text": [
      "|--- relative_compactness <= 0.75\n",
      "|   |--- value: [13.46, 16.20]\n",
      "|--- relative_compactness >  0.75\n",
      "|   |--- value: [31.68, 33.26]\n",
      "\n"
     ]
    }
   ],
   "source": [
    "print(export_text(dt, feature_names=dv.get_feature_names()))"
   ]
  },
  {
   "cell_type": "code",
   "execution_count": 52,
   "id": "4f9001a3",
   "metadata": {},
   "outputs": [
    {
     "name": "stdout",
     "output_type": "stream",
     "text": [
      "r2 score validation : 0.7766\n",
      "RMSE validation : 4.5839\n"
     ]
    }
   ],
   "source": [
    "y_pred = dt.predict(X_val)\n",
    "\n",
    "r2_score_val = r2_score(y_val, y_pred)\n",
    "print(f'r2 score validation : {r2_score_val:.4f}')\n",
    "rmse_val = np.sqrt(mean_squared_error(y_val, y_pred))\n",
    "print(f'RMSE validation : {rmse_val:.4f}')"
   ]
  },
  {
   "cell_type": "markdown",
   "id": "935b7572",
   "metadata": {},
   "source": [
    "### Tuning hyperparameters"
   ]
  },
  {
   "cell_type": "markdown",
   "id": "39f3f8e3",
   "metadata": {},
   "source": [
    "We can see the scores are not that good. Let's try to check the parameters."
   ]
  },
  {
   "cell_type": "code",
   "execution_count": 53,
   "id": "ed764485",
   "metadata": {},
   "outputs": [],
   "source": [
    "depths = [1, 2, 3, 4, 5, 6, 10, 15, 20, None]\n",
    "\n",
    "for depth in depths:\n",
    "    dt = DecisionTreeRegressor(max_depth=depth)\n",
    "    dt.fit(X_train, y_train)\n",
    "    y_pred = dt.predict(X_val)\n",
    "    rmse_val = np.sqrt(mean_squared_error(y_val, y_pred))\n",
    "#     print('depth %4s -> RMSE validation %.4f' % (depth, rmse_val))"
   ]
  },
  {
   "cell_type": "markdown",
   "id": "25b41c92",
   "metadata": {},
   "source": [
    "We select depth in [4, 5, 6] and check for min_samples_leaf"
   ]
  },
  {
   "cell_type": "code",
   "execution_count": 54,
   "id": "3b2a75a0",
   "metadata": {},
   "outputs": [],
   "source": [
    "scores_val = []\n",
    "\n",
    "for depth in [4, 5, 6]:\n",
    "    for s in [1, 5, 10, 15, 20, 500, 100, 200]:\n",
    "        dt = DecisionTreeRegressor(max_depth=depth, min_samples_leaf=s)\n",
    "        dt.fit(X_train, y_train)\n",
    "        y_pred = dt.predict(X_val)\n",
    "        rmse_val = np.sqrt(mean_squared_error(y_val, y_pred))\n",
    "        #         print('depth  %4s depth %4s -> RMSE validation %.4f' % (depth, s, rmse_val))\n",
    "        scores_val.append((depth, s, rmse_val))"
   ]
  },
  {
   "cell_type": "code",
   "execution_count": 55,
   "id": "f37720cd",
   "metadata": {},
   "outputs": [
    {
     "data": {
      "text/html": [
       "<div>\n",
       "<style scoped>\n",
       "    .dataframe tbody tr th:only-of-type {\n",
       "        vertical-align: middle;\n",
       "    }\n",
       "\n",
       "    .dataframe tbody tr th {\n",
       "        vertical-align: top;\n",
       "    }\n",
       "\n",
       "    .dataframe thead tr th {\n",
       "        text-align: left;\n",
       "    }\n",
       "\n",
       "    .dataframe thead tr:last-of-type th {\n",
       "        text-align: right;\n",
       "    }\n",
       "</style>\n",
       "<table border=\"1\" class=\"dataframe\">\n",
       "  <thead>\n",
       "    <tr>\n",
       "      <th></th>\n",
       "      <th colspan=\"3\" halign=\"left\">rmse_val</th>\n",
       "    </tr>\n",
       "    <tr>\n",
       "      <th>max_depth</th>\n",
       "      <th>4</th>\n",
       "      <th>5</th>\n",
       "      <th>6</th>\n",
       "    </tr>\n",
       "    <tr>\n",
       "      <th>min_samples_leaf</th>\n",
       "      <th></th>\n",
       "      <th></th>\n",
       "      <th></th>\n",
       "    </tr>\n",
       "  </thead>\n",
       "  <tbody>\n",
       "    <tr>\n",
       "      <th>1</th>\n",
       "      <td>1.949</td>\n",
       "      <td>1.625</td>\n",
       "      <td>1.376</td>\n",
       "    </tr>\n",
       "    <tr>\n",
       "      <th>5</th>\n",
       "      <td>1.964</td>\n",
       "      <td>1.694</td>\n",
       "      <td>1.366</td>\n",
       "    </tr>\n",
       "    <tr>\n",
       "      <th>10</th>\n",
       "      <td>2.016</td>\n",
       "      <td>1.795</td>\n",
       "      <td>1.695</td>\n",
       "    </tr>\n",
       "    <tr>\n",
       "      <th>15</th>\n",
       "      <td>2.144</td>\n",
       "      <td>2.015</td>\n",
       "      <td>1.956</td>\n",
       "    </tr>\n",
       "    <tr>\n",
       "      <th>20</th>\n",
       "      <td>2.272</td>\n",
       "      <td>2.180</td>\n",
       "      <td>2.125</td>\n",
       "    </tr>\n",
       "    <tr>\n",
       "      <th>100</th>\n",
       "      <td>4.278</td>\n",
       "      <td>4.278</td>\n",
       "      <td>4.278</td>\n",
       "    </tr>\n",
       "    <tr>\n",
       "      <th>200</th>\n",
       "      <td>4.584</td>\n",
       "      <td>4.584</td>\n",
       "      <td>4.584</td>\n",
       "    </tr>\n",
       "    <tr>\n",
       "      <th>500</th>\n",
       "      <td>9.703</td>\n",
       "      <td>9.703</td>\n",
       "      <td>9.703</td>\n",
       "    </tr>\n",
       "  </tbody>\n",
       "</table>\n",
       "</div>"
      ],
      "text/plain": [
       "                 rmse_val              \n",
       "max_depth               4      5      6\n",
       "min_samples_leaf                       \n",
       "1                   1.949  1.625  1.376\n",
       "5                   1.964  1.694  1.366\n",
       "10                  2.016  1.795  1.695\n",
       "15                  2.144  2.015  1.956\n",
       "20                  2.272  2.180  2.125\n",
       "100                 4.278  4.278  4.278\n",
       "200                 4.584  4.584  4.584\n",
       "500                 9.703  9.703  9.703"
      ]
     },
     "execution_count": 55,
     "metadata": {},
     "output_type": "execute_result"
    }
   ],
   "source": [
    "columns = ['max_depth', 'min_samples_leaf', 'rmse_val']\n",
    "df_scores = pd.DataFrame(scores_val, columns=columns)\n",
    "\n",
    "df_scores_pivot_val = df_scores.pivot(index='min_samples_leaf',\n",
    "                                      columns=['max_depth'],\n",
    "                                      values=['rmse_val'])\n",
    "df_scores_pivot_val.round(3)"
   ]
  },
  {
   "cell_type": "markdown",
   "id": "52dbce44",
   "metadata": {},
   "source": [
    "We observe that depth=6 gives the best model. Let's add the parameter min_samples_split and check"
   ]
  },
  {
   "cell_type": "code",
   "execution_count": 56,
   "id": "435d2c55",
   "metadata": {},
   "outputs": [],
   "source": [
    "scores_val = []\n",
    "\n",
    "for sample in [2, 3, 4, 5, 6]:\n",
    "    for s in [1, 5, 10, 15]:\n",
    "        dt = DecisionTreeRegressor(max_depth=6,\n",
    "                                   min_samples_leaf=s,\n",
    "                                   min_samples_split=sample)\n",
    "        dt.fit(X_train, y_train)\n",
    "        y_pred = dt.predict(X_val)\n",
    "        rmse_val = np.sqrt(mean_squared_error(y_val, y_pred))\n",
    "        #         print('depth  %4s depth %4s -> RMSE validation %.4f' % (depth, s, rmse_val))\n",
    "        scores_val.append((sample, s, rmse_val))"
   ]
  },
  {
   "cell_type": "code",
   "execution_count": 57,
   "id": "78743c4b",
   "metadata": {},
   "outputs": [
    {
     "data": {
      "text/html": [
       "<div>\n",
       "<style scoped>\n",
       "    .dataframe tbody tr th:only-of-type {\n",
       "        vertical-align: middle;\n",
       "    }\n",
       "\n",
       "    .dataframe tbody tr th {\n",
       "        vertical-align: top;\n",
       "    }\n",
       "\n",
       "    .dataframe thead tr th {\n",
       "        text-align: left;\n",
       "    }\n",
       "\n",
       "    .dataframe thead tr:last-of-type th {\n",
       "        text-align: right;\n",
       "    }\n",
       "</style>\n",
       "<table border=\"1\" class=\"dataframe\">\n",
       "  <thead>\n",
       "    <tr>\n",
       "      <th></th>\n",
       "      <th colspan=\"5\" halign=\"left\">rmse_val</th>\n",
       "    </tr>\n",
       "    <tr>\n",
       "      <th>min_samples_split</th>\n",
       "      <th>2</th>\n",
       "      <th>3</th>\n",
       "      <th>4</th>\n",
       "      <th>5</th>\n",
       "      <th>6</th>\n",
       "    </tr>\n",
       "    <tr>\n",
       "      <th>min_samples_leaf</th>\n",
       "      <th></th>\n",
       "      <th></th>\n",
       "      <th></th>\n",
       "      <th></th>\n",
       "      <th></th>\n",
       "    </tr>\n",
       "  </thead>\n",
       "  <tbody>\n",
       "    <tr>\n",
       "      <th>1</th>\n",
       "      <td>1.376</td>\n",
       "      <td>1.376</td>\n",
       "      <td>1.376</td>\n",
       "      <td>1.382</td>\n",
       "      <td>1.383</td>\n",
       "    </tr>\n",
       "    <tr>\n",
       "      <th>5</th>\n",
       "      <td>1.366</td>\n",
       "      <td>1.366</td>\n",
       "      <td>1.366</td>\n",
       "      <td>1.366</td>\n",
       "      <td>1.366</td>\n",
       "    </tr>\n",
       "    <tr>\n",
       "      <th>10</th>\n",
       "      <td>1.695</td>\n",
       "      <td>1.695</td>\n",
       "      <td>1.695</td>\n",
       "      <td>1.695</td>\n",
       "      <td>1.695</td>\n",
       "    </tr>\n",
       "    <tr>\n",
       "      <th>15</th>\n",
       "      <td>1.956</td>\n",
       "      <td>1.956</td>\n",
       "      <td>1.956</td>\n",
       "      <td>1.956</td>\n",
       "      <td>1.956</td>\n",
       "    </tr>\n",
       "  </tbody>\n",
       "</table>\n",
       "</div>"
      ],
      "text/plain": [
       "                  rmse_val                            \n",
       "min_samples_split        2      3      4      5      6\n",
       "min_samples_leaf                                      \n",
       "1                    1.376  1.376  1.376  1.382  1.383\n",
       "5                    1.366  1.366  1.366  1.366  1.366\n",
       "10                   1.695  1.695  1.695  1.695  1.695\n",
       "15                   1.956  1.956  1.956  1.956  1.956"
      ]
     },
     "execution_count": 57,
     "metadata": {},
     "output_type": "execute_result"
    }
   ],
   "source": [
    "columns = ['min_samples_split', 'min_samples_leaf', 'rmse_val']\n",
    "df_scores = pd.DataFrame(scores_val, columns=columns)\n",
    "\n",
    "df_scores_pivot_val = df_scores.pivot(index='min_samples_leaf',\n",
    "                                      columns=['min_samples_split'],\n",
    "                                      values=['rmse_val'])\n",
    "df_scores_pivot_val.round(3)"
   ]
  },
  {
   "cell_type": "code",
   "execution_count": 58,
   "id": "212d89ee",
   "metadata": {},
   "outputs": [
    {
     "data": {
      "text/plain": [
       "<AxesSubplot:xlabel='None-min_samples_split', ylabel='min_samples_leaf'>"
      ]
     },
     "execution_count": 58,
     "metadata": {},
     "output_type": "execute_result"
    },
    {
     "data": {
      "image/png": "[encoded data removed]",
      "text/plain": [
       "<Figure size 640x480 with 2 Axes>"
      ]
     },
     "metadata": {},
     "output_type": "display_data"
    }
   ],
   "source": [
    "sns.heatmap(df_scores_pivot_val, annot=True, fmt=\".3f\")"
   ]
  },
  {
   "cell_type": "markdown",
   "id": "11b95974",
   "metadata": {},
   "source": [
    "We select the best model with max_depth=6,min_samples_leaf=5,min_samples_split=4"
   ]
  },
  {
   "cell_type": "code",
   "execution_count": 59,
   "id": "013efc2d",
   "metadata": {},
   "outputs": [
    {
     "name": "stdout",
     "output_type": "stream",
     "text": [
      "r2 score validation : 0.9796\n",
      "adjusted r2 score validation : 0.9785\n",
      "MAE validation : 0.8435\n",
      "MSE validation : 1.8663\n",
      "RMSE validation : 1.3661\n"
     ]
    }
   ],
   "source": [
    "dt = DecisionTreeRegressor(max_depth=6,\n",
    "                           min_samples_leaf=5,\n",
    "                           min_samples_split=4,\n",
    "                           random_state=SEED)\n",
    "dt.fit(X_train, y_train)\n",
    "y_pred = dt.predict(X_val)\n",
    "\n",
    "r2_score_val = r2_score(y_val, y_pred)\n",
    "print(f'r2 score validation : {r2_score_val:.4f}')\n",
    "adj_r2_score_val = 1 - (1 - r2_score(y_val, y_pred)) * (len(y_val) - 1) / (\n",
    "    len(y_val) - X_val.shape[1] - 1)\n",
    "print(f'adjusted r2 score validation : {adj_r2_score_val:.4f}')\n",
    "mae_val = metrics.mean_absolute_error(y_val, y_pred)\n",
    "print(f'MAE validation : {mae_val:.4f}')\n",
    "mse_val = mean_squared_error(y_val, y_pred)\n",
    "print(f'MSE validation : {mse_val:.4f}')\n",
    "rmse_val = np.sqrt(mean_squared_error(y_val, y_pred))\n",
    "print(f'RMSE validation : {rmse_val:.4f}')"
   ]
  },
  {
   "cell_type": "markdown",
   "id": "a9539416",
   "metadata": {},
   "source": [
    "Let's move into random forest"
   ]
  },
  {
   "cell_type": "markdown",
   "id": "054bc967",
   "metadata": {},
   "source": [
    "## Random forest"
   ]
  },
  {
   "cell_type": "markdown",
   "id": "02cd5f56",
   "metadata": {},
   "source": [
    "### Base model"
   ]
  },
  {
   "cell_type": "code",
   "execution_count": 60,
   "id": "f72b35f3",
   "metadata": {},
   "outputs": [
    {
     "name": "stdout",
     "output_type": "stream",
     "text": [
      "RMSE validation : 1.2978\n"
     ]
    }
   ],
   "source": [
    "rf = RandomForestRegressor(n_estimators=10, random_state=SEED, n_jobs=-1)\n",
    "rf.fit(X_train, y_train)\n",
    "y_pred = rf.predict(X_val)\n",
    "rmse_val = np.sqrt(mean_squared_error(y_val, y_pred))\n",
    "print(f'RMSE validation : {rmse_val:.4f}')"
   ]
  },
  {
   "cell_type": "markdown",
   "id": "97425a8c",
   "metadata": {},
   "source": [
    "### Tuning hyperparameters"
   ]
  },
  {
   "cell_type": "markdown",
   "id": "2528b2d2",
   "metadata": {},
   "source": [
    "Better than decision tree. Let's try to check the parameters to see if we can make it better."
   ]
  },
  {
   "cell_type": "markdown",
   "id": "1a1f8d4e",
   "metadata": {},
   "source": [
    "We will experiment with the n_estimators parameter. After which value of n_estimators does RMSE stop improving?\n",
    "* Try different values of this parameter from 10 to 200 with step 10"
   ]
  },
  {
   "cell_type": "code",
   "execution_count": 61,
   "id": "1a5642c2",
   "metadata": {},
   "outputs": [
    {
     "data": {
      "application/vnd.jupyter.widget-view+json": {
       "model_id": "1b8646454d754d48bb012af47ffc76c1",
       "version_major": 2,
       "version_minor": 0
      },
      "text/plain": [
       "  0%|          | 0/20 [00:00<?, ?it/s]"
      ]
     },
     "metadata": {},
     "output_type": "display_data"
    },
    {
     "data": {
      "text/plain": [
       "[<matplotlib.lines.Line2D at 0x11fa41f8670>]"
      ]
     },
     "execution_count": 61,
     "metadata": {},
     "output_type": "execute_result"
    },
    {
     "data": {
      "image/png": "[encoded data removed]",
      "text/plain": [
       "<Figure size 640x480 with 1 Axes>"
      ]
     },
     "metadata": {},
     "output_type": "display_data"
    }
   ],
   "source": [
    "from tqdm.auto import tqdm\n",
    "\n",
    "scores = []\n",
    "\n",
    "for n in tqdm(range(10, 201, 10)):\n",
    "    rf = RandomForestRegressor(n_estimators=n, random_state=SEED, n_jobs=-1)\n",
    "    rf.fit(X_train, y_train)\n",
    "\n",
    "    y_pred = rf.predict(X_val)\n",
    "    score = np.sqrt(mean_squared_error(y_val, y_pred))\n",
    "\n",
    "    scores.append((n, score))\n",
    "\n",
    "df_scores = pd.DataFrame(scores, columns=['n_estimators', 'rmse'])\n",
    "plt.plot(df_scores.n_estimators, df_scores.rmse.round(3))"
   ]
  },
  {
   "cell_type": "markdown",
   "id": "7fcfa414",
   "metadata": {},
   "source": [
    "Seems RMSE stops improving after 50 n_estimators."
   ]
  },
  {
   "cell_type": "markdown",
   "id": "a2ce03fd",
   "metadata": {},
   "source": [
    "What about the best max_depth ?\n",
    "* Try different values of `max_depth`: `[20, 50, 100]`\n",
    "* For each of these values, try different values of `n_estimators` from 10 till 200 (with step 10)\n",
    "* Fix the random seed: `random_state=1=SEED`"
   ]
  },
  {
   "cell_type": "code",
   "execution_count": 62,
   "id": "8466ebe7",
   "metadata": {},
   "outputs": [
    {
     "data": {
      "application/vnd.jupyter.widget-view+json": {
       "model_id": "a761dc436f184613a25b79c255707255",
       "version_major": 2,
       "version_minor": 0
      },
      "text/plain": [
       "  0%|          | 0/4 [00:00<?, ?it/s]"
      ]
     },
     "metadata": {},
     "output_type": "display_data"
    },
    {
     "data": {
      "application/vnd.jupyter.widget-view+json": {
       "model_id": "361c84c1186941458de5ee4ac195e309",
       "version_major": 2,
       "version_minor": 0
      },
      "text/plain": [
       "  0%|          | 0/20 [00:00<?, ?it/s]"
      ]
     },
     "metadata": {},
     "output_type": "display_data"
    },
    {
     "data": {
      "application/vnd.jupyter.widget-view+json": {
       "model_id": "467349f955234f628dedc725bef06875",
       "version_major": 2,
       "version_minor": 0
      },
      "text/plain": [
       "  0%|          | 0/20 [00:00<?, ?it/s]"
      ]
     },
     "metadata": {},
     "output_type": "display_data"
    },
    {
     "data": {
      "application/vnd.jupyter.widget-view+json": {
       "model_id": "e534e9e66dc646d1b144aaf0163811f0",
       "version_major": 2,
       "version_minor": 0
      },
      "text/plain": [
       "  0%|          | 0/20 [00:00<?, ?it/s]"
      ]
     },
     "metadata": {},
     "output_type": "display_data"
    },
    {
     "data": {
      "application/vnd.jupyter.widget-view+json": {
       "model_id": "aff761a584884a6584f0a33d075a1492",
       "version_major": 2,
       "version_minor": 0
      },
      "text/plain": [
       "  0%|          | 0/20 [00:00<?, ?it/s]"
      ]
     },
     "metadata": {},
     "output_type": "display_data"
    }
   ],
   "source": [
    "scores = []\n",
    "\n",
    "for d in tqdm([10, 15, 20, 25]):\n",
    "    rf = RandomForestRegressor(n_estimators=0,\n",
    "                               max_depth=d,\n",
    "                               random_state=SEED,\n",
    "                               n_jobs=-1,\n",
    "                               warm_start=True)\n",
    "\n",
    "    for n in tqdm(range(10, 201, 10)):\n",
    "        rf.n_estimators = n\n",
    "        rf.fit(X_train, y_train)\n",
    "\n",
    "        y_pred = rf.predict(X_val)\n",
    "        score = np.sqrt(mean_squared_error(y_val, y_pred))\n",
    "\n",
    "        scores.append((d, n, score))\n",
    "\n",
    "columns = ['max_depth', 'n_estimators', 'rmse']\n",
    "df_scores = pd.DataFrame(scores, columns=columns)"
   ]
  },
  {
   "cell_type": "code",
   "execution_count": 63,
   "id": "c7a944d7",
   "metadata": {},
   "outputs": [
    {
     "data": {
      "text/plain": [
       "<matplotlib.legend.Legend at 0x11fa5378a30>"
      ]
     },
     "execution_count": 63,
     "metadata": {},
     "output_type": "execute_result"
    },
    {
     "data": {
      "image/png": "[encoded data removed]",
      "text/plain": [
       "<Figure size 640x480 with 1 Axes>"
      ]
     },
     "metadata": {},
     "output_type": "display_data"
    }
   ],
   "source": [
    "for d in [10, 15, 20, 25]:\n",
    "    df_subset = df_scores[df_scores.max_depth == d]\n",
    "    plt.plot(df_subset.n_estimators, df_subset.rmse, label=d)\n",
    "\n",
    "plt.legend()"
   ]
  },
  {
   "cell_type": "code",
   "execution_count": 64,
   "id": "8459d751",
   "metadata": {},
   "outputs": [],
   "source": [
    "rf_scores_val = []\n",
    "\n",
    "for sample in [2, 3, 4, 5, 6]:\n",
    "    for s in [1, 5, 10, 15]:\n",
    "        rf = RandomForestRegressor(n_estimators=50,\n",
    "                                   criterion=\"mse\",\n",
    "                                   max_depth=25,\n",
    "                                   min_samples_split=sample,\n",
    "                                   min_samples_leaf=s,\n",
    "                                   random_state=SEED,\n",
    "                                   n_jobs=-1)\n",
    "        rf.fit(X_train, y_train)\n",
    "        y_pred = rf.predict(X_val)\n",
    "        rmse_val = np.sqrt(mean_squared_error(y_val, y_pred))\n",
    "        #         print('depth  %4s depth %4s -> RMSE validation %.4f' % (depth, s, rmse_val))\n",
    "        rf_scores_val.append((sample, s, rmse_val))"
   ]
  },
  {
   "cell_type": "code",
   "execution_count": 65,
   "id": "220337fe",
   "metadata": {},
   "outputs": [
    {
     "data": {
      "text/html": [
       "<div>\n",
       "<style scoped>\n",
       "    .dataframe tbody tr th:only-of-type {\n",
       "        vertical-align: middle;\n",
       "    }\n",
       "\n",
       "    .dataframe tbody tr th {\n",
       "        vertical-align: top;\n",
       "    }\n",
       "\n",
       "    .dataframe thead tr th {\n",
       "        text-align: left;\n",
       "    }\n",
       "\n",
       "    .dataframe thead tr:last-of-type th {\n",
       "        text-align: right;\n",
       "    }\n",
       "</style>\n",
       "<table border=\"1\" class=\"dataframe\">\n",
       "  <thead>\n",
       "    <tr>\n",
       "      <th></th>\n",
       "      <th colspan=\"5\" halign=\"left\">rmse_val</th>\n",
       "    </tr>\n",
       "    <tr>\n",
       "      <th>min_samples_split</th>\n",
       "      <th>2</th>\n",
       "      <th>3</th>\n",
       "      <th>4</th>\n",
       "      <th>5</th>\n",
       "      <th>6</th>\n",
       "    </tr>\n",
       "    <tr>\n",
       "      <th>min_samples_leaf</th>\n",
       "      <th></th>\n",
       "      <th></th>\n",
       "      <th></th>\n",
       "      <th></th>\n",
       "      <th></th>\n",
       "    </tr>\n",
       "  </thead>\n",
       "  <tbody>\n",
       "    <tr>\n",
       "      <th>1</th>\n",
       "      <td>1.243</td>\n",
       "      <td>1.279</td>\n",
       "      <td>1.311</td>\n",
       "      <td>1.315</td>\n",
       "      <td>1.309</td>\n",
       "    </tr>\n",
       "    <tr>\n",
       "      <th>5</th>\n",
       "      <td>1.393</td>\n",
       "      <td>1.393</td>\n",
       "      <td>1.393</td>\n",
       "      <td>1.393</td>\n",
       "      <td>1.393</td>\n",
       "    </tr>\n",
       "    <tr>\n",
       "      <th>10</th>\n",
       "      <td>1.855</td>\n",
       "      <td>1.855</td>\n",
       "      <td>1.855</td>\n",
       "      <td>1.855</td>\n",
       "      <td>1.855</td>\n",
       "    </tr>\n",
       "    <tr>\n",
       "      <th>15</th>\n",
       "      <td>2.078</td>\n",
       "      <td>2.078</td>\n",
       "      <td>2.078</td>\n",
       "      <td>2.078</td>\n",
       "      <td>2.078</td>\n",
       "    </tr>\n",
       "  </tbody>\n",
       "</table>\n",
       "</div>"
      ],
      "text/plain": [
       "                  rmse_val                            \n",
       "min_samples_split        2      3      4      5      6\n",
       "min_samples_leaf                                      \n",
       "1                    1.243  1.279  1.311  1.315  1.309\n",
       "5                    1.393  1.393  1.393  1.393  1.393\n",
       "10                   1.855  1.855  1.855  1.855  1.855\n",
       "15                   2.078  2.078  2.078  2.078  2.078"
      ]
     },
     "execution_count": 65,
     "metadata": {},
     "output_type": "execute_result"
    }
   ],
   "source": [
    "columns = ['min_samples_split', 'min_samples_leaf', 'rmse_val']\n",
    "df_rf_scores = pd.DataFrame(rf_scores_val, columns=columns)\n",
    "\n",
    "df_rf_scores_pivot_val = df_rf_scores.pivot(index='min_samples_leaf',\n",
    "                                            columns=['min_samples_split'],\n",
    "                                            values=['rmse_val'])\n",
    "df_rf_scores_pivot_val.round(3)"
   ]
  },
  {
   "cell_type": "markdown",
   "id": "746f2bc0",
   "metadata": {},
   "source": [
    "The function criterion() is used to measure the quality of a split. Supported criteria are “mse” for the mean squared error, which is equal to variance reduction as feature selection criterion, and “mae” for the mean absolute error.\n",
    "Scores are evaluated based on the mean squared error between your prediction and the actual values, so we use criterion=\"mse\"."
   ]
  },
  {
   "cell_type": "code",
   "execution_count": 66,
   "id": "6c877eb0",
   "metadata": {},
   "outputs": [
    {
     "data": {
      "text/html": [
       "<style>#sk-container-id-3 {color: black;background-color: white;}#sk-container-id-3 pre{padding: 0;}#sk-container-id-3 div.sk-toggleable {background-color: white;}#sk-container-id-3 label.sk-toggleable__label {cursor: pointer;display: block;width: 100%;margin-bottom: 0;padding: 0.3em;box-sizing: border-box;text-align: center;}#sk-container-id-3 label.sk-toggleable__label-arrow:before {content: \"▸\";float: left;margin-right: 0.25em;color: #696969;}#sk-container-id-3 label.sk-toggleable__label-arrow:hover:before {color: black;}#sk-container-id-3 div.sk-estimator:hover label.sk-toggleable__label-arrow:before {color: black;}#sk-container-id-3 div.sk-toggleable__content {max-height: 0;max-width: 0;overflow: hidden;text-align: left;background-color: #f0f8ff;}#sk-container-id-3 div.sk-toggleable__content pre {margin: 0.2em;color: black;border-radius: 0.25em;background-color: #f0f8ff;}#sk-container-id-3 input.sk-toggleable__control:checked~div.sk-toggleable__content {max-height: 200px;max-width: 100%;overflow: auto;}#sk-container-id-3 input.sk-toggleable__control:checked~label.sk-toggleable__label-arrow:before {content: \"▾\";}#sk-container-id-3 div.sk-estimator input.sk-toggleable__control:checked~label.sk-toggleable__label {background-color: #d4ebff;}#sk-container-id-3 div.sk-label input.sk-toggleable__control:checked~label.sk-toggleable__label {background-color: #d4ebff;}#sk-container-id-3 input.sk-hidden--visually {border: 0;clip: rect(1px 1px 1px 1px);clip: rect(1px, 1px, 1px, 1px);height: 1px;margin: -1px;overflow: hidden;padding: 0;position: absolute;width: 1px;}#sk-container-id-3 div.sk-estimator {font-family: monospace;background-color: #f0f8ff;border: 1px dotted black;border-radius: 0.25em;box-sizing: border-box;margin-bottom: 0.5em;}#sk-container-id-3 div.sk-estimator:hover {background-color: #d4ebff;}#sk-container-id-3 div.sk-parallel-item::after {content: \"\";width: 100%;border-bottom: 1px solid gray;flex-grow: 1;}#sk-container-id-3 div.sk-label:hover label.sk-toggleable__label {background-color: #d4ebff;}#sk-container-id-3 div.sk-serial::before {content: \"\";position: absolute;border-left: 1px solid gray;box-sizing: border-box;top: 0;bottom: 0;left: 50%;z-index: 0;}#sk-container-id-3 div.sk-serial {display: flex;flex-direction: column;align-items: center;background-color: white;padding-right: 0.2em;padding-left: 0.2em;position: relative;}#sk-container-id-3 div.sk-item {position: relative;z-index: 1;}#sk-container-id-3 div.sk-parallel {display: flex;align-items: stretch;justify-content: center;background-color: white;position: relative;}#sk-container-id-3 div.sk-item::before, #sk-container-id-3 div.sk-parallel-item::before {content: \"\";position: absolute;border-left: 1px solid gray;box-sizing: border-box;top: 0;bottom: 0;left: 50%;z-index: -1;}#sk-container-id-3 div.sk-parallel-item {display: flex;flex-direction: column;z-index: 1;position: relative;background-color: white;}#sk-container-id-3 div.sk-parallel-item:first-child::after {align-self: flex-end;width: 50%;}#sk-container-id-3 div.sk-parallel-item:last-child::after {align-self: flex-start;width: 50%;}#sk-container-id-3 div.sk-parallel-item:only-child::after {width: 0;}#sk-container-id-3 div.sk-dashed-wrapped {border: 1px dashed gray;margin: 0 0.4em 0.5em 0.4em;box-sizing: border-box;padding-bottom: 0.4em;background-color: white;}#sk-container-id-3 div.sk-label label {font-family: monospace;font-weight: bold;display: inline-block;line-height: 1.2em;}#sk-container-id-3 div.sk-label-container {text-align: center;}#sk-container-id-3 div.sk-container {/* jupyter's `normalize.less` sets `[hidden] { display: none; }` but bootstrap.min.css set `[hidden] { display: none !important; }` so we also need the `!important` here to be able to override the default hidden behavior on the sphinx rendered scikit-learn.org. See: https://github.com/scikit-learn/scikit-learn/issues/21755 */display: inline-block !important;position: relative;}#sk-container-id-3 div.sk-text-repr-fallback {display: none;}</style><div id=\"sk-container-id-3\" class=\"sk-top-container\"><div class=\"sk-text-repr-fallback\"><pre>RandomForestRegressor(criterion=&#x27;mse&#x27;, max_depth=25, n_estimators=50, n_jobs=-1,\n",
       "                      random_state=1)</pre><b>In a Jupyter environment, please rerun this cell to show the HTML representation or trust the notebook. <br />On GitHub, the HTML representation is unable to render, please try loading this page with nbviewer.org.</b></div><div class=\"sk-container\" hidden><div class=\"sk-item\"><div class=\"sk-estimator sk-toggleable\"><input class=\"sk-toggleable__control sk-hidden--visually\" id=\"sk-estimator-id-3\" type=\"checkbox\" checked><label for=\"sk-estimator-id-3\" class=\"sk-toggleable__label sk-toggleable__label-arrow\">RandomForestRegressor</label><div class=\"sk-toggleable__content\"><pre>RandomForestRegressor(criterion=&#x27;mse&#x27;, max_depth=25, n_estimators=50, n_jobs=-1,\n",
       "                      random_state=1)</pre></div></div></div></div></div>"
      ],
      "text/plain": [
       "RandomForestRegressor(criterion='mse', max_depth=25, n_estimators=50, n_jobs=-1,\n",
       "                      random_state=1)"
      ]
     },
     "execution_count": 66,
     "metadata": {},
     "output_type": "execute_result"
    }
   ],
   "source": [
    "#@ TRAINING RANDOM FOREST MODEL:\n",
    "rf = RandomForestRegressor(n_estimators=50,\n",
    "                           criterion=\"mse\",\n",
    "                           max_depth=25,\n",
    "                           min_samples_leaf=1,\n",
    "                           min_samples_split=2,\n",
    "                           n_jobs=-1,\n",
    "                           random_state=SEED)\n",
    "\n",
    "rf.fit(X_train, y_train)"
   ]
  },
  {
   "cell_type": "code",
   "execution_count": 67,
   "id": "605ee5a8",
   "metadata": {},
   "outputs": [
    {
     "name": "stdout",
     "output_type": "stream",
     "text": [
      "r2 score validation : 0.9830\n",
      "adjusted r2 score validation : 0.9821\n",
      "MAE validation : 0.6711\n",
      "MSE validation : 1.5458\n",
      "RMSE validation : 1.2433\n"
     ]
    }
   ],
   "source": [
    "y_pred = rf.predict(X_val)\n",
    "\n",
    "r2_score_val = r2_score(y_val, y_pred)\n",
    "print(f'r2 score validation : {r2_score_val:.4f}')\n",
    "adj_r2_score_val = 1 - (1 - r2_score(y_val, y_pred)) * (len(y_val) - 1) / (\n",
    "    len(y_val) - X_val.shape[1] - 1)\n",
    "print(f'adjusted r2 score validation : {adj_r2_score_val:.4f}')\n",
    "mae_val = metrics.mean_absolute_error(y_val, y_pred)\n",
    "print(f'MAE validation : {mae_val:.4f}')\n",
    "mse_val = mean_squared_error(y_val, y_pred)\n",
    "print(f'MSE validation : {mse_val:.4f}')\n",
    "rmse_val = np.sqrt(mean_squared_error(y_val, y_pred))\n",
    "print(f'RMSE validation : {rmse_val:.4f}')"
   ]
  },
  {
   "cell_type": "markdown",
   "id": "68ff859e",
   "metadata": {},
   "source": [
    "We managed to get a better RMSE from the base model."
   ]
  },
  {
   "cell_type": "markdown",
   "id": "8ba78ced",
   "metadata": {},
   "source": [
    "One could also experiment with \n",
    "\n",
    "* bootstrap ,max_features\n"
   ]
  },
  {
   "cell_type": "markdown",
   "id": "82111f2a",
   "metadata": {},
   "source": [
    "### Feature importance"
   ]
  },
  {
   "cell_type": "markdown",
   "id": "029f2052",
   "metadata": {},
   "source": [
    "In Scikit-Learn, tree-based models contain this information in the `feature_importances_` field. \n",
    "\n",
    "\n",
    "* We'll find the most important feature with these parametes:\n",
    "    * `n_estimators=50`,\n",
    "    * `max_depth=25`,\n",
    "    * `random_state=1`,\n",
    "    * `min_samples_leaf=1`,\n",
    "    * `min_samples_split=2`,\n",
    "    * `n_jobs=-1` (optional)"
   ]
  },
  {
   "cell_type": "code",
   "execution_count": 68,
   "id": "68d6ea6c",
   "metadata": {},
   "outputs": [
    {
     "data": {
      "text/plain": [
       "array([0.05678882, 0.0171179 , 0.00564995, 0.29180188, 0.29297897,\n",
       "       0.13176305, 0.16507406, 0.03882537])"
      ]
     },
     "execution_count": 68,
     "metadata": {},
     "output_type": "execute_result"
    }
   ],
   "source": [
    "rf.feature_importances_"
   ]
  },
  {
   "cell_type": "code",
   "execution_count": 69,
   "id": "3f498e8c",
   "metadata": {},
   "outputs": [
    {
     "data": {
      "text/html": [
       "<div>\n",
       "<style scoped>\n",
       "    .dataframe tbody tr th:only-of-type {\n",
       "        vertical-align: middle;\n",
       "    }\n",
       "\n",
       "    .dataframe tbody tr th {\n",
       "        vertical-align: top;\n",
       "    }\n",
       "\n",
       "    .dataframe thead th {\n",
       "        text-align: right;\n",
       "    }\n",
       "</style>\n",
       "<table border=\"1\" class=\"dataframe\">\n",
       "  <thead>\n",
       "    <tr style=\"text-align: right;\">\n",
       "      <th></th>\n",
       "      <th>feature</th>\n",
       "      <th>importance</th>\n",
       "    </tr>\n",
       "  </thead>\n",
       "  <tbody>\n",
       "    <tr>\n",
       "      <th>4</th>\n",
       "      <td>relative_compactness</td>\n",
       "      <td>0.292979</td>\n",
       "    </tr>\n",
       "    <tr>\n",
       "      <th>3</th>\n",
       "      <td>overall_height</td>\n",
       "      <td>0.291802</td>\n",
       "    </tr>\n",
       "    <tr>\n",
       "      <th>6</th>\n",
       "      <td>surface_area</td>\n",
       "      <td>0.165074</td>\n",
       "    </tr>\n",
       "    <tr>\n",
       "      <th>5</th>\n",
       "      <td>roof_area</td>\n",
       "      <td>0.131763</td>\n",
       "    </tr>\n",
       "    <tr>\n",
       "      <th>0</th>\n",
       "      <td>glazing_area</td>\n",
       "      <td>0.056789</td>\n",
       "    </tr>\n",
       "  </tbody>\n",
       "</table>\n",
       "</div>"
      ],
      "text/plain": [
       "                feature  importance\n",
       "4  relative_compactness    0.292979\n",
       "3        overall_height    0.291802\n",
       "6          surface_area    0.165074\n",
       "5             roof_area    0.131763\n",
       "0          glazing_area    0.056789"
      ]
     },
     "execution_count": 69,
     "metadata": {},
     "output_type": "execute_result"
    }
   ],
   "source": [
    "df_importances = pd.DataFrame()\n",
    "df_importances['feature'] = dv.get_feature_names()\n",
    "df_importances['importance'] = rf.feature_importances_\n",
    "df_importances.sort_values(by='importance', ascending=False).head()"
   ]
  },
  {
   "cell_type": "markdown",
   "id": "f91bc0fb",
   "metadata": {},
   "source": [
    "So relative_compactness and overall_height seem important for this model."
   ]
  },
  {
   "cell_type": "markdown",
   "id": "1b963ef3",
   "metadata": {},
   "source": [
    "Let's see what xgboost will give!"
   ]
  },
  {
   "cell_type": "markdown",
   "id": "82482306",
   "metadata": {},
   "source": [
    "## Xgboost"
   ]
  },
  {
   "cell_type": "code",
   "execution_count": 70,
   "id": "dd3f92ca",
   "metadata": {},
   "outputs": [],
   "source": [
    "#@ CREATING THE DMARTIX:\n",
    "features = dv.feature_names_\n",
    "# features = dv.get_feature_names()\n",
    "\n",
    "regex = re.compile(r\"<\", re.IGNORECASE)\n",
    "features = [\n",
    "    regex.sub(\"_\", col) if any(x in str(col)\n",
    "                               for x in set(('[', ']', '<'))) else col\n",
    "    for col in features\n",
    "]\n",
    "\n",
    "dtrain = xgb.DMatrix(X_train, label=y_train, feature_names=features)\n",
    "dval = xgb.DMatrix(X_val, label=y_val, feature_names=features)"
   ]
  },
  {
   "cell_type": "code",
   "execution_count": 71,
   "id": "613615ad",
   "metadata": {},
   "outputs": [],
   "source": [
    "watchlist = [(dtrain, 'train'), (dval, 'val')]"
   ]
  },
  {
   "cell_type": "markdown",
   "id": "a78b57bf",
   "metadata": {},
   "source": [
    "Tuning the following parameters:\n",
    "\n",
    "* `eta`\n",
    "* `max_depth`\n",
    "* `min_child_weight`"
   ]
  },
  {
   "cell_type": "code",
   "execution_count": 72,
   "id": "3584c15e",
   "metadata": {},
   "outputs": [
    {
     "name": "stdout",
     "output_type": "stream",
     "text": [
      "for eta=0.1 rmse= 1.1154899961710136, r2 score validation : 0.9863198985291122\n",
      "for eta=0.3 rmse= 0.8779557596005695, r2 score validation : 0.991545404381823\n",
      "for eta=0.01 rmse= 9.186432137439311, r2 score validation : 0.09608076388983755\n"
     ]
    }
   ],
   "source": [
    "scores = []\n",
    "for eta in [0.1, 0.3, 0.01]:\n",
    "    xgb_params = {\n",
    "        'eta': eta,\n",
    "        'max_depth': 3,\n",
    "        'min_child_weight': 1,\n",
    "        'objective': 'reg:squarederror',\n",
    "        'nthread': 8,\n",
    "        'seed': SEED,\n",
    "        'verbosity': 1,\n",
    "    }\n",
    "\n",
    "    model = xgb.train(xgb_params, dtrain, num_boost_round=100)\n",
    "    y_pred = model.predict(dval)\n",
    "    rmse = np.sqrt(mean_squared_error(y_val, y_pred))\n",
    "    r2_score_val = r2_score(y_val, y_pred)\n",
    "    scores.append((eta, rmse))\n",
    "    print(f\"for eta={eta} rmse= {rmse}, r2 score validation : {r2_score_val}\")"
   ]
  },
  {
   "cell_type": "markdown",
   "id": "e29a55f4",
   "metadata": {},
   "source": [
    "Tune other parameters gives"
   ]
  },
  {
   "cell_type": "code",
   "execution_count": 73,
   "id": "60c9d7bc",
   "metadata": {},
   "outputs": [
    {
     "name": "stdout",
     "output_type": "stream",
     "text": [
      "for eta=0.1 rmse= 0.7973577652405777, r2 score validation : 0.9930444475369027\n",
      "for eta=0.3 rmse= 0.7947077081206875, r2 score validation : 0.9931025843685012\n",
      "for eta=0.01 rmse= 3.745576607754138, r2 score validation : 0.8490422317667341\n"
     ]
    }
   ],
   "source": [
    "scores = []\n",
    "for eta in [0.1, 0.3, 0.01]:\n",
    "    xgb_params = {\n",
    "        'min_child_weight': 2,\n",
    "        'max_depth': 5,\n",
    "        'eta': eta,\n",
    "        'booster': 'gbtree',\n",
    "        'base_score': 0.75,\n",
    "        'objective': 'reg:squarederror',\n",
    "        'nthread': 8,\n",
    "        'seed': SEED,\n",
    "        'verbosity': 1,\n",
    "    }\n",
    "\n",
    "    model = xgb.train(xgb_params, dtrain, num_boost_round=200)\n",
    "    y_pred = model.predict(dval)\n",
    "    rmse_xgb = np.sqrt(mean_squared_error(y_val, y_pred))\n",
    "    r2_score_val_xgb = r2_score(y_val, y_pred)\n",
    "    scores.append((eta, rmse_xgb))\n",
    "    print(f\"for eta={eta} rmse= {rmse_xgb}, r2 score validation : {r2_score_val_xgb}\")"
   ]
  },
  {
   "cell_type": "markdown",
   "id": "afb14b0b",
   "metadata": {},
   "source": [
    "We select eta = 0.3 with the lowest rmse."
   ]
  },
  {
   "cell_type": "code",
   "execution_count": 74,
   "id": "519b9b0f",
   "metadata": {},
   "outputs": [
    {
     "name": "stdout",
     "output_type": "stream",
     "text": [
      "for eta=0.3 rmse= 0.7947077081206875, r2 score validation : 0.9931025843685012\n"
     ]
    }
   ],
   "source": [
    "eta = 0.3\n",
    "xgb_params = {\n",
    "    'min_child_weight': 2,\n",
    "    'max_depth': 5,\n",
    "    'eta': eta,\n",
    "    'booster': 'gbtree',\n",
    "    'base_score': 0.75,\n",
    "    'objective': 'reg:squarederror',\n",
    "    'nthread': 8,\n",
    "    'seed': SEED,\n",
    "    'verbosity': 1,\n",
    "}\n",
    "model = xgb.train(xgb_params, dtrain, num_boost_round=200)\n",
    "y_pred = model.predict(dval)\n",
    "rmse_xgb = np.sqrt(mean_squared_error(y_val, y_pred))\n",
    "r2_score_val_xgb = r2_score(y_val, y_pred)\n",
    "scores.append((eta, rmse_xgb))\n",
    "print(f\"for eta={eta} rmse= {rmse_xgb}, r2 score validation : {r2_score_val_xgb}\")"
   ]
  },
  {
   "cell_type": "markdown",
   "id": "ed6c18d0",
   "metadata": {},
   "source": [
    "Thus, we get a final table with our results"
   ]
  },
  {
   "cell_type": "code",
   "execution_count": 75,
   "id": "4601decf",
   "metadata": {},
   "outputs": [],
   "source": [
    "models_name = [\n",
    "    \"Linear Regression\", \"Ridge Regression\", \"Decision Tree Regressor\",\n",
    "    \"Random Forest Regressor\"\n",
    "]\n",
    "models = [\n",
    "    LinearRegression(),\n",
    "    Ridge(alpha=0.01, random_state=SEED),\n",
    "    DecisionTreeRegressor(max_depth=6,\n",
    "                          min_samples_leaf=5,\n",
    "                          min_samples_split=4,\n",
    "                          random_state=SEED),\n",
    "    RandomForestRegressor(n_estimators=50,\n",
    "                          criterion=\"mse\",\n",
    "                          max_depth=25,\n",
    "                          min_samples_leaf=1,\n",
    "                          min_samples_split=2,\n",
    "                          n_jobs=-1,\n",
    "                          random_state=SEED)\n",
    "]"
   ]
  },
  {
   "cell_type": "code",
   "execution_count": 76,
   "id": "965ecd1c",
   "metadata": {},
   "outputs": [
    {
     "data": {
      "application/vnd.jupyter.widget-view+json": {
       "model_id": "0b39e51f4da44219b53e973b7f05b8f7",
       "version_major": 2,
       "version_minor": 0
      },
      "text/plain": [
       "  0%|          | 0/4 [00:00<?, ?it/s]"
      ]
     },
     "metadata": {},
     "output_type": "display_data"
    }
   ],
   "source": [
    "results = []\n",
    "for i in tqdm(range(len(models_name))):\n",
    "    model = models[i].fit(X_train, y_train)\n",
    "    y_pred = model.predict(X_val)\n",
    "    rmse = np.sqrt(mean_squared_error(y_val, y_pred))\n",
    "    results.append((models_name[i], rmse))\n",
    "results_df = pd.DataFrame(results, columns=[\"models\", \"rmse\"])"
   ]
  },
  {
   "cell_type": "code",
   "execution_count": 77,
   "id": "fe97b0b5",
   "metadata": {},
   "outputs": [
    {
     "data": {
      "text/html": [
       "<div>\n",
       "<style scoped>\n",
       "    .dataframe tbody tr th:only-of-type {\n",
       "        vertical-align: middle;\n",
       "    }\n",
       "\n",
       "    .dataframe tbody tr th {\n",
       "        vertical-align: top;\n",
       "    }\n",
       "\n",
       "    .dataframe thead th {\n",
       "        text-align: right;\n",
       "    }\n",
       "</style>\n",
       "<table border=\"1\" class=\"dataframe\">\n",
       "  <thead>\n",
       "    <tr style=\"text-align: right;\">\n",
       "      <th></th>\n",
       "      <th>models</th>\n",
       "      <th>rmse</th>\n",
       "    </tr>\n",
       "  </thead>\n",
       "  <tbody>\n",
       "    <tr>\n",
       "      <th>4</th>\n",
       "      <td>XGBoost Regressor</td>\n",
       "      <td>0.794708</td>\n",
       "    </tr>\n",
       "    <tr>\n",
       "      <th>3</th>\n",
       "      <td>Random Forest Regressor</td>\n",
       "      <td>1.243285</td>\n",
       "    </tr>\n",
       "    <tr>\n",
       "      <th>2</th>\n",
       "      <td>Decision Tree Regressor</td>\n",
       "      <td>1.366144</td>\n",
       "    </tr>\n",
       "    <tr>\n",
       "      <th>1</th>\n",
       "      <td>Ridge Regression</td>\n",
       "      <td>2.993011</td>\n",
       "    </tr>\n",
       "    <tr>\n",
       "      <th>0</th>\n",
       "      <td>Linear Regression</td>\n",
       "      <td>2.993118</td>\n",
       "    </tr>\n",
       "  </tbody>\n",
       "</table>\n",
       "</div>"
      ],
      "text/plain": [
       "                    models      rmse\n",
       "4        XGBoost Regressor  0.794708\n",
       "3  Random Forest Regressor  1.243285\n",
       "2  Decision Tree Regressor  1.366144\n",
       "1         Ridge Regression  2.993011\n",
       "0        Linear Regression  2.993118"
      ]
     },
     "execution_count": 77,
     "metadata": {},
     "output_type": "execute_result"
    }
   ],
   "source": [
    "xgb_result = {'models': \"XGBoost Regressor\", \"rmse\": rmse_xgb} \n",
    "results_df = results_df.append(xgb_result, ignore_index=True)\n",
    "results_df.sort_values(by=\"rmse\", inplace=True)\n",
    "results_df"
   ]
  },
  {
   "cell_type": "markdown",
   "id": "80b86ff4",
   "metadata": {},
   "source": [
    "# Final model"
   ]
  },
  {
   "cell_type": "markdown",
   "id": "1fb7eb38",
   "metadata": {},
   "source": [
    "We select for our final model the xgboost one and train for the full set."
   ]
  },
  {
   "cell_type": "code",
   "execution_count": 78,
   "id": "39a2bf52",
   "metadata": {},
   "outputs": [],
   "source": [
    "df_full_train = df_full_train.reset_index(drop=True)\n",
    "y_full_train = df_full_train[['heating_load', 'cooling_load']].values"
   ]
  },
  {
   "cell_type": "code",
   "execution_count": 79,
   "id": "03413f53",
   "metadata": {},
   "outputs": [],
   "source": [
    "del df_full_train['heating_load']\n",
    "del df_full_train['cooling_load']"
   ]
  },
  {
   "cell_type": "code",
   "execution_count": 80,
   "id": "456ee1b1",
   "metadata": {},
   "outputs": [],
   "source": [
    "dicts_full_train = df_full_train.to_dict(orient='records')\n",
    "\n",
    "dv = DictVectorizer(sparse=False)\n",
    "X_full_train = dv.fit_transform(dicts_full_train)\n",
    "\n",
    "dicts_test = df_test.to_dict(orient='records')\n",
    "X_test = dv.transform(dicts_test)\n"
   ]
  },
  {
   "cell_type": "code",
   "execution_count": 81,
   "id": "88c0e6f3",
   "metadata": {},
   "outputs": [],
   "source": [
    "features = dv.feature_names_\n",
    "dfulltrain = xgb.DMatrix(X_full_train,\n",
    "                         label=y_full_train,\n",
    "                         feature_names=features)\n",
    "\n",
    "dtest = xgb.DMatrix(X_test, feature_names=features)"
   ]
  },
  {
   "cell_type": "code",
   "execution_count": 82,
   "id": "e3eee091",
   "metadata": {},
   "outputs": [
    {
     "name": "stdout",
     "output_type": "stream",
     "text": [
      "for eta=0.3 rmse= 0.5186408103267065, r2 score test : 0.9971609622030928\n"
     ]
    }
   ],
   "source": [
    "eta = 0.3\n",
    "xgb_params = {\n",
    "    'min_child_weight': 2,\n",
    "    'max_depth': 5,\n",
    "    'eta': eta,\n",
    "    'booster': 'gbtree',\n",
    "    'base_score': 0.75,\n",
    "    'objective': 'reg:squarederror',\n",
    "    'nthread': 8,\n",
    "    'seed': SEED,\n",
    "    'verbosity': 1,\n",
    "}\n",
    "\n",
    "model = xgb.train(xgb_params, dfulltrain, num_boost_round=200)\n",
    "y_pred = model.predict(dtest)\n",
    "rmse_final = np.sqrt(mean_squared_error(y_test, y_pred))\n",
    "r2_score_final = r2_score(y_test, y_pred)\n",
    "print(f\"for eta={eta} rmse= {rmse_final}, r2 score test : {r2_score_final}\")"
   ]
  },
  {
   "cell_type": "code",
   "execution_count": null,
   "id": "0757c9f6",
   "metadata": {},
   "outputs": [],
   "source": []
  }
 ],
 "metadata": {
  "kernelspec": {
   "display_name": "Python 3 (ipykernel)",
   "language": "python",
   "name": "python3"
  },
  "language_info": {
   "codemirror_mode": {
    "name": "ipython",
    "version": 3
   },
   "file_extension": ".py",
   "mimetype": "text/x-python",
   "name": "python",
   "nbconvert_exporter": "python",
   "pygments_lexer": "ipython3",
   "version": "3.10.8"
  },
  "toc": {
   "base_numbering": 1,
   "nav_menu": {},
   "number_sections": true,
   "sideBar": true,
   "skip_h1_title": false,
   "title_cell": "Table of Contents",
   "title_sidebar": "Contents",
   "toc_cell": true,
   "toc_position": {
    "height": "calc(100% - 180px)",
    "left": "10px",
    "top": "150px",
    "width": "426.667px"
   },
   "toc_section_display": true,
   "toc_window_display": true
  },
  "vscode": {
   "interpreter": {
    "hash": "a64d7e2227ba595acb0ee6c6397e5ebc289323645d3316fb843c985a1b735da1"
   }
  }
 },
 "nbformat": 4,
 "nbformat_minor": 5
}
